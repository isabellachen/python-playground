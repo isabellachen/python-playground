{
 "cells": [
  {
   "cell_type": "code",
   "execution_count": 1,
   "id": "0ac67a66-1bdd-4197-96f7-c8b009f01ed8",
   "metadata": {},
   "outputs": [
    {
     "name": "stdout",
     "output_type": "stream",
     "text": [
      "49\n"
     ]
    }
   ],
   "source": [
    "def square(number):\n",
    "    return (number**2)\n",
    "\n",
    "print(square(7))"
   ]
  },
  {
   "cell_type": "code",
   "execution_count": 4,
   "id": "171541e4-06f2-45cf-85a5-049408f64fee",
   "metadata": {},
   "outputs": [
    {
     "name": "stdout",
     "output_type": "stream",
     "text": [
      "The arguments are (1, 2, 3)\n"
     ]
    }
   ],
   "source": [
    "def print_args(*args):\n",
    "    print(f\"The arguments are {args}\")\n",
    "    \n",
    "print_args(1,2,3)"
   ]
  },
  {
   "cell_type": "code",
   "execution_count": 7,
   "id": "113b920f-964e-4e0b-817f-c5b9f0d657ca",
   "metadata": {},
   "outputs": [
    {
     "name": "stdout",
     "output_type": "stream",
     "text": [
      "13\n",
      "19\n"
     ]
    }
   ],
   "source": [
    "def return_tuple(a, b):\n",
    "    return(a,b)\n",
    "\n",
    "a,b = return_tuple(13,19)\n",
    "\n",
    "print(a)\n",
    "print(b)"
   ]
  },
  {
   "cell_type": "code",
   "execution_count": 9,
   "id": "23e56bb7-6419-407a-a704-a86f8a02faa2",
   "metadata": {},
   "outputs": [
    {
     "name": "stdout",
     "output_type": "stream",
     "text": [
      "3\n"
     ]
    }
   ],
   "source": [
    "def return_list(a,b):\n",
    "    return [a,b]\n",
    "\n",
    "a,b = return_list(3,7)\n",
    "\n",
    "print(a)\n",
    "print(b)"
   ]
  },
  {
   "cell_type": "code",
   "execution_count": 11,
   "id": "7ebe5473-2d07-4938-9b12-ed360f5fa2a1",
   "metadata": {},
   "outputs": [
    {
     "data": {
      "text/plain": [
       "10"
      ]
     },
     "execution_count": 11,
     "metadata": {},
     "output_type": "execute_result"
    }
   ],
   "source": [
    "ret = (lambda x: x*5)\n",
    "ret(2)"
   ]
  },
  {
   "cell_type": "code",
   "execution_count": 12,
   "id": "98598f75-1a82-496e-b821-41d914a96715",
   "metadata": {},
   "outputs": [
    {
     "data": {
      "text/plain": [
       "35"
      ]
     },
     "execution_count": 12,
     "metadata": {},
     "output_type": "execute_result"
    }
   ],
   "source": [
    "(lambda x: x*5)(7)"
   ]
  },
  {
   "cell_type": "code",
   "execution_count": 14,
   "id": "a3a155b0-ba3e-41ee-8717-c689822c24c8",
   "metadata": {},
   "outputs": [
    {
     "data": {
      "text/plain": [
       "\u001b[0;31mSignature:\u001b[0m \u001b[0msum\u001b[0m\u001b[0;34m(\u001b[0m\u001b[0miterable\u001b[0m\u001b[0;34m,\u001b[0m \u001b[0;34m/\u001b[0m\u001b[0;34m,\u001b[0m \u001b[0mstart\u001b[0m\u001b[0;34m=\u001b[0m\u001b[0;36m0\u001b[0m\u001b[0;34m)\u001b[0m\u001b[0;34m\u001b[0m\u001b[0;34m\u001b[0m\u001b[0m\n",
       "\u001b[0;31mDocstring:\u001b[0m\n",
       "Return the sum of a 'start' value (default: 0) plus an iterable of numbers\n",
       "\n",
       "When the iterable is empty, return the start value.\n",
       "This function is intended specifically for use with numeric values and may\n",
       "reject non-numeric types.\n",
       "\u001b[0;31mType:\u001b[0m      builtin_function_or_method\n"
      ]
     },
     "metadata": {},
     "output_type": "display_data"
    }
   ],
   "source": [
    "sum?"
   ]
  },
  {
   "cell_type": "code",
   "execution_count": 15,
   "id": "edd376dc-bdbe-41c3-9645-9e67e7d0fb38",
   "metadata": {},
   "outputs": [
    {
     "data": {
      "text/plain": [
       "6"
      ]
     },
     "execution_count": 15,
     "metadata": {},
     "output_type": "execute_result"
    }
   ],
   "source": [
    "sum([1,2,3])"
   ]
  },
  {
   "cell_type": "code",
   "execution_count": 18,
   "id": "e95ceaac-c0a8-4594-889c-4a8754a15ad1",
   "metadata": {},
   "outputs": [
    {
     "name": "stdout",
     "output_type": "stream",
     "text": [
      "0 1 2 3 4 5 6 7 8 9 "
     ]
    }
   ],
   "source": [
    "for x in range(10):\n",
    "    print(x, end = \" \")"
   ]
  },
  {
   "cell_type": "code",
   "execution_count": 21,
   "id": "966b8c87-f984-40b9-80d3-9bbc6b3cb23e",
   "metadata": {},
   "outputs": [
    {
     "data": {
      "text/plain": [
       "5.0"
      ]
     },
     "execution_count": 21,
     "metadata": {},
     "output_type": "execute_result"
    }
   ],
   "source": [
    "from math import sqrt\n",
    "\n",
    "def sq_root(num):\n",
    "    print(num)\n",
    "    return num**0.5\n",
    "\n",
    "sq_root(25)"
   ]
  },
  {
   "cell_type": "code",
   "execution_count": 26,
   "id": "982dbc85-6280-4a57-9cfd-7f2ae2061e52",
   "metadata": {},
   "outputs": [
    {
     "name": "stdout",
     "output_type": "stream",
     "text": [
      "<map object at 0x7fbf2734d940>\n",
      "False\n",
      "True\n",
      "1 3 5\n"
     ]
    }
   ],
   "source": [
    "is_odd = lambda x: x %2 == 1\n",
    "values = [1,2,3,4,5]\n",
    "print(map(is_odd, values))\n",
    "print(all(map(is_odd, values)))\n",
    "print(any(map(is_odd, values)))\n",
    "print(*filter(is_odd, values))"
   ]
  },
  {
   "cell_type": "code",
   "execution_count": 36,
   "id": "2f508194-06ab-40cf-88fd-b9c72e4f307c",
   "metadata": {},
   "outputs": [
    {
     "name": "stdout",
     "output_type": "stream",
     "text": [
      "apple\n",
      "apple\n"
     ]
    }
   ],
   "source": [
    "def fruits(n):\n",
    "   print(n)\n",
    "\n",
    "next(map(fruits, ('apple', 'banana', 'cherry')))"
   ]
  },
  {
   "cell_type": "code",
   "execution_count": 39,
   "id": "7cf42ccd-a906-4165-b55f-9b11ec4aff74",
   "metadata": {},
   "outputs": [
    {
     "name": "stdout",
     "output_type": "stream",
     "text": [
      "['apple', 'banana', 'cherry']\n"
     ]
    }
   ],
   "source": [
    "def fruits(n):\n",
    "   return n\n",
    "\n",
    "print([*map(fruits, ('apple', 'banana', 'cherry'))])"
   ]
  },
  {
   "cell_type": "code",
   "execution_count": 44,
   "id": "13587a42-fdf3-4000-a865-f21decc08646",
   "metadata": {},
   "outputs": [
    {
     "name": "stdout",
     "output_type": "stream",
     "text": [
      "96 62 1 84 53 70 38 23 56 18 "
     ]
    }
   ],
   "source": [
    "import random\n",
    "\n",
    "for roll in range(10):\n",
    "    print(random.randrange(1,100), end=\" \")"
   ]
  },
  {
   "cell_type": "code",
   "execution_count": 49,
   "id": "40461c3c-1a6f-4021-81c2-07ad0093b771",
   "metadata": {},
   "outputs": [
    {
     "name": "stdout",
     "output_type": "stream",
     "text": [
      "['applepear', 'orangebanana']\n"
     ]
    }
   ],
   "source": [
    "def combine_fruit(a,b):\n",
    "    return a + b\n",
    "\n",
    "x = map(combine_fruit, ('apple', 'orange'), ('pear', 'banana'))\n",
    "print(list(x))"
   ]
  },
  {
   "cell_type": "code",
   "execution_count": 54,
   "id": "e70f6d9c-6ddf-4ccd-87f0-650786bae5aa",
   "metadata": {},
   "outputs": [
    {
     "data": {
      "text/plain": [
       "26"
      ]
     },
     "execution_count": 54,
     "metadata": {},
     "output_type": "execute_result"
    }
   ],
   "source": [
    "random.randrange(0, 100, 1)"
   ]
  },
  {
   "cell_type": "code",
   "execution_count": 63,
   "id": "6fab76b4-5e83-404e-9607-c1ff0740a10b",
   "metadata": {},
   "outputs": [
    {
     "name": "stdout",
     "output_type": "stream",
     "text": [
      "T T H H T H T T T H T H T T H T T H T T "
     ]
    }
   ],
   "source": [
    "def toss_coin():\n",
    "    for i in range(20):\n",
    "        coin = random.randrange(2)\n",
    "        if coin % 2 == 0 :\n",
    "            print('H', end=\" \")\n",
    "        else:\n",
    "            print('T', end=\" \")\n",
    "        \n",
    "toss_coin()"
   ]
  },
  {
   "cell_type": "code",
   "execution_count": 77,
   "id": "90ff574e-aebd-4b17-845e-519bfc4ae289",
   "metadata": {},
   "outputs": [
    {
     "name": "stdout",
     "output_type": "stream",
     "text": [
      "H H T H T T T T H H T T H T T H T H T T "
     ]
    }
   ],
   "source": [
    "def toss_coin():\n",
    "    for i in range(20):\n",
    "        coin = random.randrange(2)\n",
    "        print('H' if coin % 2 == 0 else 'T', end=\" \")\n",
    "        \n",
    "toss_coin()"
   ]
  },
  {
   "cell_type": "code",
   "execution_count": 64,
   "id": "29c37d6c-61ae-4ac3-9e99-0b1337bc706b",
   "metadata": {},
   "outputs": [
    {
     "data": {
      "text/plain": [
       "'T'"
      ]
     },
     "execution_count": 64,
     "metadata": {},
     "output_type": "execute_result"
    }
   ],
   "source": [
    "random.choice([\"H\", \"T\"])"
   ]
  },
  {
   "cell_type": "code",
   "execution_count": 68,
   "id": "1855f47b-76b2-42cb-9e4d-80ad2d735d56",
   "metadata": {},
   "outputs": [
    {
     "name": "stdout",
     "output_type": "stream",
     "text": [
      "H T H H T H H T H T H H H H T H T H H T "
     ]
    }
   ],
   "source": [
    "outcomes = [\"H\", \"T\"]\n",
    "\n",
    "for i in range(20):\n",
    "    print(random.choice(outcomes), end=\" \")"
   ]
  },
  {
   "cell_type": "code",
   "execution_count": 71,
   "id": "edbf04c0-fa32-42f2-a12e-6f93f9bc11ef",
   "metadata": {},
   "outputs": [
    {
     "name": "stdout",
     "output_type": "stream",
     "text": [
      "3\n"
     ]
    }
   ],
   "source": [
    "tup = (1,2)\n",
    "\n",
    "print(sum(tup))"
   ]
  },
  {
   "cell_type": "code",
   "execution_count": 81,
   "id": "9c0174cc-75b4-48f6-a043-bdfa4eb0fdf5",
   "metadata": {},
   "outputs": [
    {
     "name": "stdout",
     "output_type": "stream",
     "text": [
      "Player rolled 6 + 6 = 12\n",
      "12\n"
     ]
    }
   ],
   "source": [
    "def roll_dice():\n",
    "    die1 = random.randrange(1,7)\n",
    "    die2 = random.randrange(1,7)\n",
    "    return (die1, die2)\n",
    "\n",
    "def display_dice(dice):\n",
    "    die1, die2 = dice\n",
    "    print(f\"Player rolled {die1} + {die2} = {sum(dice)}\")\n",
    "    \n",
    "die_values = roll_dice()\n",
    "display_dice(die_values)\n",
    "sum_of_dice = sum(die_values)\n"
   ]
  },
  {
   "cell_type": "code",
   "execution_count": 85,
   "id": "18aa7ef4-bdb8-4aad-9d82-06cdaa133615",
   "metadata": {},
   "outputs": [
    {
     "data": {
      "text/plain": [
       "False"
      ]
     },
     "execution_count": 85,
     "metadata": {},
     "output_type": "execute_result"
    }
   ],
   "source": [
    "1 in (1,2)\n",
    "10 in (1,2,7)"
   ]
  },
  {
   "cell_type": "code",
   "execution_count": 92,
   "id": "966e84ce-6900-497e-8cf4-e292327b418c",
   "metadata": {},
   "outputs": [
    {
     "name": "stdout",
     "output_type": "stream",
     "text": [
      "('Sue', [89, 91])\n",
      "Sue\n",
      "[89, 91]\n"
     ]
    }
   ],
   "source": [
    "student = ('Sue', [89, 91])\n",
    "print(student)\n",
    "name, grades = student\n",
    "print(name)\n",
    "print(grades)"
   ]
  },
  {
   "cell_type": "code",
   "execution_count": 96,
   "id": "664fe7d2-0811-40a4-9174-1848e6fa8ba2",
   "metadata": {},
   "outputs": [
    {
     "data": {
      "text/plain": [
       "\u001b[0;31mSignature:\u001b[0m \u001b[0mmath\u001b[0m\u001b[0;34m.\u001b[0m\u001b[0mfabs\u001b[0m\u001b[0;34m(\u001b[0m\u001b[0mx\u001b[0m\u001b[0;34m,\u001b[0m \u001b[0;34m/\u001b[0m\u001b[0;34m)\u001b[0m\u001b[0;34m\u001b[0m\u001b[0;34m\u001b[0m\u001b[0m\n",
       "\u001b[0;31mDocstring:\u001b[0m Return the absolute value of the float x.\n",
       "\u001b[0;31mType:\u001b[0m      builtin_function_or_method\n"
      ]
     },
     "metadata": {},
     "output_type": "display_data"
    }
   ],
   "source": [
    "import math\n",
    "math.pow?\n",
    "math.fabs?"
   ]
  },
  {
   "cell_type": "code",
   "execution_count": 101,
   "id": "a743c427-2230-43f8-9202-3a706c812d85",
   "metadata": {},
   "outputs": [
    {
     "name": "stdout",
     "output_type": "stream",
     "text": [
      "21\n",
      "20\n"
     ]
    }
   ],
   "source": [
    "def rect_area(length=2, width=3):\n",
    "    \"\"\"Return the area of rectangle\"\"\"\n",
    "    return length * width\n",
    "print(rect_area(3,7))\n",
    "print(rect_area(2,10))"
   ]
  },
  {
   "cell_type": "code",
   "execution_count": 112,
   "id": "431bd06a-a998-4ce6-a6e8-ff7909504fe0",
   "metadata": {},
   "outputs": [
    {
     "name": "stdout",
     "output_type": "stream",
     "text": [
      "(1, 2, 3)\n",
      "The sum is 6 and the length is 3\n",
      "6\n",
      "3\n"
     ]
    }
   ],
   "source": [
    "def average(*args):\n",
    "    print(args)\n",
    "    print(f\"The sum is {sum(args)} and the length is {len(args)}\")\n",
    "    return (sum(args), len(args))\n",
    "    \n",
    "the_sum, the_length = average(1,2,3)\n",
    "print(the_sum)\n",
    "print(the_length)"
   ]
  },
  {
   "cell_type": "code",
   "execution_count": 122,
   "id": "6c101921-1599-4698-8846-fceef770d261",
   "metadata": {},
   "outputs": [
    {
     "name": "stdout",
     "output_type": "stream",
     "text": [
      "6\n"
     ]
    }
   ],
   "source": [
    "def calc_product(*args):\n",
    "    result = 1\n",
    "    for i in args:\n",
    "        result *= i\n",
    "    return result\n",
    "\n",
    "print(calc_product(1,2,3))"
   ]
  },
  {
   "cell_type": "code",
   "execution_count": 124,
   "id": "1ca668de-a6bc-4c4e-abed-6a42e6bb95ed",
   "metadata": {},
   "outputs": [
    {
     "ename": "TypeError",
     "evalue": "reduce() of empty sequence with no initial value",
     "output_type": "error",
     "traceback": [
      "\u001b[0;31m---------------------------------------------------------------------------\u001b[0m",
      "\u001b[0;31mTypeError\u001b[0m                                 Traceback (most recent call last)",
      "\u001b[0;32m/var/folders/pk/4gffy8_15hd_0fcz80vjkb540000gn/T/ipykernel_1381/3334555919.py\u001b[0m in \u001b[0;36m<module>\u001b[0;34m\u001b[0m\n\u001b[1;32m      2\u001b[0m     \u001b[0;32mreturn\u001b[0m \u001b[0mreduce\u001b[0m\u001b[0;34m(\u001b[0m\u001b[0moperator\u001b[0m\u001b[0;34m.\u001b[0m\u001b[0mmul\u001b[0m\u001b[0;34m,\u001b[0m \u001b[0mnums\u001b[0m\u001b[0;34m)\u001b[0m\u001b[0;34m\u001b[0m\u001b[0;34m\u001b[0m\u001b[0m\n\u001b[1;32m      3\u001b[0m \u001b[0;34m\u001b[0m\u001b[0m\n\u001b[0;32m----> 4\u001b[0;31m \u001b[0mcalc_pdt\u001b[0m\u001b[0;34m(\u001b[0m\u001b[0;34m)\u001b[0m\u001b[0;34m\u001b[0m\u001b[0;34m\u001b[0m\u001b[0m\n\u001b[0m",
      "\u001b[0;32m/var/folders/pk/4gffy8_15hd_0fcz80vjkb540000gn/T/ipykernel_1381/1260744758.py\u001b[0m in \u001b[0;36mcalc_pdt\u001b[0;34m(*nums)\u001b[0m\n\u001b[1;32m      3\u001b[0m \u001b[0;34m\u001b[0m\u001b[0m\n\u001b[1;32m      4\u001b[0m \u001b[0;32mdef\u001b[0m \u001b[0mcalc_pdt\u001b[0m\u001b[0;34m(\u001b[0m\u001b[0;34m*\u001b[0m\u001b[0mnums\u001b[0m\u001b[0;34m)\u001b[0m\u001b[0;34m:\u001b[0m\u001b[0;34m\u001b[0m\u001b[0;34m\u001b[0m\u001b[0m\n\u001b[0;32m----> 5\u001b[0;31m     \u001b[0;32mreturn\u001b[0m \u001b[0mreduce\u001b[0m\u001b[0;34m(\u001b[0m\u001b[0moperator\u001b[0m\u001b[0;34m.\u001b[0m\u001b[0mmul\u001b[0m\u001b[0;34m,\u001b[0m \u001b[0mnums\u001b[0m\u001b[0;34m)\u001b[0m\u001b[0;34m\u001b[0m\u001b[0;34m\u001b[0m\u001b[0m\n\u001b[0m\u001b[1;32m      6\u001b[0m \u001b[0;34m\u001b[0m\u001b[0m\n\u001b[1;32m      7\u001b[0m \u001b[0mcalc_pdt\u001b[0m\u001b[0;34m(\u001b[0m\u001b[0;36m1\u001b[0m\u001b[0;34m,\u001b[0m\u001b[0;36m2\u001b[0m\u001b[0;34m,\u001b[0m\u001b[0;36m3\u001b[0m\u001b[0;34m)\u001b[0m\u001b[0;34m\u001b[0m\u001b[0;34m\u001b[0m\u001b[0m\n",
      "\u001b[0;31mTypeError\u001b[0m: reduce() of empty sequence with no initial value"
     ]
    }
   ],
   "source": [
    "def calc_pdt2(*nums):\n",
    "    return reduce(operator.mul, nums)\n",
    "\n",
    "calc_pdt()"
   ]
  },
  {
   "cell_type": "code",
   "execution_count": 125,
   "id": "4ce725e3-4ac9-4225-b221-71066688cd66",
   "metadata": {},
   "outputs": [
    {
     "ename": "TypeError",
     "evalue": "reduce() of empty sequence with no initial value",
     "output_type": "error",
     "traceback": [
      "\u001b[0;31m---------------------------------------------------------------------------\u001b[0m",
      "\u001b[0;31mTypeError\u001b[0m                                 Traceback (most recent call last)",
      "\u001b[0;32m/var/folders/pk/4gffy8_15hd_0fcz80vjkb540000gn/T/ipykernel_1381/4126421887.py\u001b[0m in \u001b[0;36m<module>\u001b[0;34m\u001b[0m\n\u001b[1;32m      2\u001b[0m     \u001b[0;32mreturn\u001b[0m \u001b[0mreduce\u001b[0m\u001b[0;34m(\u001b[0m\u001b[0moperator\u001b[0m\u001b[0;34m.\u001b[0m\u001b[0mmul\u001b[0m\u001b[0;34m,\u001b[0m \u001b[0mnums\u001b[0m\u001b[0;34m,\u001b[0m \u001b[0mnum\u001b[0m\u001b[0;34m)\u001b[0m\u001b[0;34m\u001b[0m\u001b[0;34m\u001b[0m\u001b[0m\n\u001b[1;32m      3\u001b[0m \u001b[0;34m\u001b[0m\u001b[0m\n\u001b[0;32m----> 4\u001b[0;31m \u001b[0mcalc_pdt\u001b[0m\u001b[0;34m(\u001b[0m\u001b[0;34m)\u001b[0m\u001b[0;34m\u001b[0m\u001b[0;34m\u001b[0m\u001b[0m\n\u001b[0m",
      "\u001b[0;32m/var/folders/pk/4gffy8_15hd_0fcz80vjkb540000gn/T/ipykernel_1381/1260744758.py\u001b[0m in \u001b[0;36mcalc_pdt\u001b[0;34m(*nums)\u001b[0m\n\u001b[1;32m      3\u001b[0m \u001b[0;34m\u001b[0m\u001b[0m\n\u001b[1;32m      4\u001b[0m \u001b[0;32mdef\u001b[0m \u001b[0mcalc_pdt\u001b[0m\u001b[0;34m(\u001b[0m\u001b[0;34m*\u001b[0m\u001b[0mnums\u001b[0m\u001b[0;34m)\u001b[0m\u001b[0;34m:\u001b[0m\u001b[0;34m\u001b[0m\u001b[0;34m\u001b[0m\u001b[0m\n\u001b[0;32m----> 5\u001b[0;31m     \u001b[0;32mreturn\u001b[0m \u001b[0mreduce\u001b[0m\u001b[0;34m(\u001b[0m\u001b[0moperator\u001b[0m\u001b[0;34m.\u001b[0m\u001b[0mmul\u001b[0m\u001b[0;34m,\u001b[0m \u001b[0mnums\u001b[0m\u001b[0;34m)\u001b[0m\u001b[0;34m\u001b[0m\u001b[0;34m\u001b[0m\u001b[0m\n\u001b[0m\u001b[1;32m      6\u001b[0m \u001b[0;34m\u001b[0m\u001b[0m\n\u001b[1;32m      7\u001b[0m \u001b[0mcalc_pdt\u001b[0m\u001b[0;34m(\u001b[0m\u001b[0;36m1\u001b[0m\u001b[0;34m,\u001b[0m\u001b[0;36m2\u001b[0m\u001b[0;34m,\u001b[0m\u001b[0;36m3\u001b[0m\u001b[0;34m)\u001b[0m\u001b[0;34m\u001b[0m\u001b[0;34m\u001b[0m\u001b[0m\n",
      "\u001b[0;31mTypeError\u001b[0m: reduce() of empty sequence with no initial value"
     ]
    }
   ],
   "source": [
    "# Better error message\n",
    "def calc_pdt2(num, *nums):\n",
    "    return reduce(operator.mul, nums, num)\n",
    "\n",
    "calc_pdt()"
   ]
  },
  {
   "cell_type": "code",
   "execution_count": 120,
   "id": "89cb7f3b-c762-4270-a7bd-0a84acff3b2a",
   "metadata": {},
   "outputs": [
    {
     "data": {
      "text/plain": [
       "6"
      ]
     },
     "execution_count": 120,
     "metadata": {},
     "output_type": "execute_result"
    }
   ],
   "source": [
    "from functools import reduce\n",
    "import operator\n",
    "\n",
    "def calc_pdt(num, *nums):\n",
    "    return reduce(operator.mul, nums, num)\n",
    "\n",
    "calc_pdt(1,2,3)\n",
    "calc_pdt(*range(1,6,2))"
   ]
  },
  {
   "cell_type": "code",
   "execution_count": 126,
   "id": "74cd54c0-45cd-4e74-861e-f2800b1b49bc",
   "metadata": {},
   "outputs": [
    {
     "data": {
      "text/plain": [
       "\u001b[0;31mDocstring:\u001b[0m\n",
       "reduce(function, sequence[, initial]) -> value\n",
       "\n",
       "Apply a function of two arguments cumulatively to the items of a sequence,\n",
       "from left to right, so as to reduce the sequence to a single value.\n",
       "For example, reduce(lambda x, y: x+y, [1, 2, 3, 4, 5]) calculates\n",
       "((((1+2)+3)+4)+5).  If initial is present, it is placed before the items\n",
       "of the sequence in the calculation, and serves as a default when the\n",
       "sequence is empty.\n",
       "\u001b[0;31mType:\u001b[0m      builtin_function_or_method\n"
      ]
     },
     "metadata": {},
     "output_type": "display_data"
    }
   ],
   "source": [
    "reduce??"
   ]
  },
  {
   "cell_type": "code",
   "execution_count": 127,
   "id": "99d40248-d1c9-4ba3-93bf-2e73a312f64c",
   "metadata": {},
   "outputs": [
    {
     "data": {
      "text/plain": [
       "15"
      ]
     },
     "execution_count": 127,
     "metadata": {},
     "output_type": "execute_result"
    }
   ],
   "source": [
    "reduce(lambda x, y: x+y, [1,2,3,4,5])"
   ]
  },
  {
   "cell_type": "code",
   "execution_count": 128,
   "id": "22bc7165-104a-4027-8823-f8405e5db345",
   "metadata": {},
   "outputs": [
    {
     "data": {
      "text/plain": [
       "115"
      ]
     },
     "execution_count": 128,
     "metadata": {},
     "output_type": "execute_result"
    }
   ],
   "source": [
    "reduce(lambda x, y: x+y, [1,2,3,4,5], 100)"
   ]
  },
  {
   "cell_type": "code",
   "execution_count": 4,
   "id": "b7059818-42f1-42fe-82bc-f90f85403de7",
   "metadata": {},
   "outputs": [
    {
     "data": {
      "text/plain": [
       "{'Finland': 'fi', 'Singapore': 'sg', 'Germany': 'de'}"
      ]
     },
     "execution_count": 4,
     "metadata": {},
     "output_type": "execute_result"
    }
   ],
   "source": [
    "country_codes = {'Finland': 'fi', 'Singapore': 'sg',\n",
    "                 'Germany': 'de'}\n",
    "country_codes"
   ]
  },
  {
   "cell_type": "code",
   "execution_count": 7,
   "id": "9589afec-016d-4f02-bd5a-84bd225201f8",
   "metadata": {},
   "outputs": [
    {
     "name": "stdout",
     "output_type": "stream",
     "text": [
      "Jan has 31 days\n",
      "Feb has 28 days\n",
      "Mar has 31 days\n"
     ]
    }
   ],
   "source": [
    "days_per_month = {'Jan': 31, 'Feb': 28, 'Mar':31}\n",
    "\n",
    "for (month, days) in days_per_month.items():\n",
    "    print(f'{month} has {days} days')"
   ]
  },
  {
   "cell_type": "code",
   "execution_count": 10,
   "id": "fa5d20f0-7387-48ac-abec-dbf4be491a08",
   "metadata": {},
   "outputs": [
    {
     "data": {
      "text/plain": [
       "{'I': 1, 'II': 2, 'III': 3, 'IV': 4, 'V': 5}"
      ]
     },
     "execution_count": 10,
     "metadata": {},
     "output_type": "execute_result"
    }
   ],
   "source": [
    "roman_numerals = {'I': 1, 'II': 2, 'III': 3, 'IV': 4, 'V': 'hello'}\n",
    "roman_numerals['V'] = 5\n",
    "roman_numerals"
   ]
  },
  {
   "cell_type": "code",
   "execution_count": 11,
   "id": "6e437584-b6db-4be1-abb7-31431dd92337",
   "metadata": {},
   "outputs": [
    {
     "data": {
      "text/plain": [
       "{'I': 1, 'II': 2, 'IV': 4, 'V': 5}"
      ]
     },
     "execution_count": 11,
     "metadata": {},
     "output_type": "execute_result"
    }
   ],
   "source": [
    "del roman_numerals['III']\n",
    "roman_numerals"
   ]
  },
  {
   "cell_type": "code",
   "execution_count": 13,
   "id": "6ac082ea-ebb0-4b0a-9c52-634f91e63b7d",
   "metadata": {},
   "outputs": [
    {
     "data": {
      "text/plain": [
       "'III not in dictionary'"
      ]
     },
     "execution_count": 13,
     "metadata": {},
     "output_type": "execute_result"
    }
   ],
   "source": [
    "roman_numerals.get('III', 'III not in dictionary')"
   ]
  },
  {
   "cell_type": "code",
   "execution_count": 14,
   "id": "ea73cacc-e6fa-4318-a45b-8a36bb250055",
   "metadata": {},
   "outputs": [
    {
     "data": {
      "text/plain": [
       "5"
      ]
     },
     "execution_count": 14,
     "metadata": {},
     "output_type": "execute_result"
    }
   ],
   "source": [
    "roman_numerals.get('V', 'III not in dictionary')"
   ]
  },
  {
   "cell_type": "code",
   "execution_count": 20,
   "id": "4fb37a7a-c6b8-4db0-8744-75bb98f6ff89",
   "metadata": {},
   "outputs": [
    {
     "name": "stdout",
     "output_type": "stream",
     "text": [
      "Jan\n",
      "Feb\n",
      "Mar\n"
     ]
    }
   ],
   "source": [
    "months = {'Jan': 1, 'Feb': 2, 'Mar':3}\n",
    "for month in months.keys():\n",
    "    print(month)"
   ]
  },
  {
   "cell_type": "code",
   "execution_count": 21,
   "id": "60067b5e-445b-4c28-99fb-44307e7396a5",
   "metadata": {},
   "outputs": [
    {
     "name": "stdout",
     "output_type": "stream",
     "text": [
      "Jan\n",
      "Feb\n",
      "Mar\n"
     ]
    }
   ],
   "source": [
    "months_view = months.keys()\n",
    "for key in months_view:\n",
    "    print(key)"
   ]
  },
  {
   "cell_type": "code",
   "execution_count": 35,
   "id": "d0cb0211-a51c-4a1f-a5e6-82e675ed3e45",
   "metadata": {},
   "outputs": [
    {
     "name": "stdout",
     "output_type": "stream",
     "text": [
      "Jan\n",
      "Feb\n",
      "Mar\n",
      "Dec\n",
      "May\n"
     ]
    }
   ],
   "source": [
    "months['Dec'] = 12\n",
    "months['May'] = 5\n",
    "for key in months_view:\n",
    "    print(key)"
   ]
  },
  {
   "cell_type": "code",
   "execution_count": 28,
   "id": "4313620f-12e2-4389-8ad6-1a3eefe55a7f",
   "metadata": {},
   "outputs": [
    {
     "name": "stdout",
     "output_type": "stream",
     "text": [
      "['Jan', 'Feb', 'Mar', 'Dec']\n",
      "[1, 2, 3, 12]\n"
     ]
    },
    {
     "data": {
      "text/plain": [
       "[('Jan', 1), ('Feb', 2), ('Mar', 3), ('Dec', 12)]"
      ]
     },
     "execution_count": 28,
     "metadata": {},
     "output_type": "execute_result"
    }
   ],
   "source": [
    "print(list(months.keys()))\n",
    "print(list(months.values()))\n",
    "list(months.items())"
   ]
  },
  {
   "cell_type": "code",
   "execution_count": 31,
   "id": "10d15cf2-42d2-457e-9cbd-f3c20a837e16",
   "metadata": {},
   "outputs": [
    {
     "name": "stdout",
     "output_type": "stream",
     "text": [
      "Dec Feb Jan Mar "
     ]
    }
   ],
   "source": [
    "for month_name in sorted(months.keys()):\n",
    "    print(month_name, end=' ')"
   ]
  },
  {
   "cell_type": "code",
   "execution_count": 33,
   "id": "f4752132-186f-4dd1-a72c-09048905e4fb",
   "metadata": {},
   "outputs": [
    {
     "name": "stdout",
     "output_type": "stream",
     "text": [
      "1 2 3 12 "
     ]
    }
   ],
   "source": [
    "for month_value in sorted(months.values()):\n",
    "    print(month_value, end=' ')"
   ]
  },
  {
   "cell_type": "code",
   "execution_count": 38,
   "id": "53e44e05-9db9-4bd0-9305-74ed6298ac21",
   "metadata": {},
   "outputs": [
    {
     "name": "stdout",
     "output_type": "stream",
     "text": [
      "Jan 1\n",
      "Feb 2\n",
      "Mar 3\n",
      "May 5\n",
      "Dec 12\n"
     ]
    }
   ],
   "source": [
    "def sort_by_month_number(month):\n",
    "    _, num = month\n",
    "    return num\n",
    "\n",
    "for (month_name, month_order) in sorted(months.items(),\n",
    "                                        key=lambda month: month[1]):\n",
    "    print(month_name, month_order)\n",
    "    "
   ]
  },
  {
   "cell_type": "code",
   "execution_count": 40,
   "id": "37007169-beac-403c-8d07-1c4bfb622d64",
   "metadata": {},
   "outputs": [
    {
     "name": "stdout",
     "output_type": "stream",
     "text": [
      "Jan 1\n",
      "Feb 2\n",
      "Mar 3\n",
      "May 5\n",
      "Dec 12\n"
     ]
    }
   ],
   "source": [
    "def get_month_num(month):\n",
    "    _, num = month\n",
    "    return num\n",
    "\n",
    "for (month_name, month_order) in sorted(months.items(),\n",
    "                                        key=get_month_num):\n",
    "    print(month_name, month_order)\n",
    "    "
   ]
  },
  {
   "cell_type": "code",
   "execution_count": 41,
   "id": "6381e7fb-0da9-4a53-8750-014f5d24e733",
   "metadata": {},
   "outputs": [
    {
     "data": {
      "text/plain": [
       "[('Jan', 1), ('Feb', 2), ('Mar', 3), ('May', 5), ('Dec', 12)]"
      ]
     },
     "execution_count": 41,
     "metadata": {},
     "output_type": "execute_result"
    }
   ],
   "source": [
    "sorted(months.items(), key=lambda month: month[1])"
   ]
  },
  {
   "cell_type": "code",
   "execution_count": 42,
   "id": "62cefc93-33ee-4ac4-b754-18f698392a25",
   "metadata": {},
   "outputs": [
    {
     "name": "stdout",
     "output_type": "stream",
     "text": [
      "Jan 1\n",
      "Feb 2\n",
      "Mar 3\n",
      "Dec 12\n",
      "May 5\n"
     ]
    },
    {
     "data": {
      "text/plain": [
       "[('Jan', 1), ('Feb', 2), ('Mar', 3), ('May', 5), ('Dec', 12)]"
      ]
     },
     "execution_count": 42,
     "metadata": {},
     "output_type": "execute_result"
    }
   ],
   "source": [
    "def get_month_num(month):\n",
    "    name, num = month\n",
    "    print(name, num)\n",
    "    return num\n",
    "\n",
    "sorted(months.items(), key=get_month_num)"
   ]
  },
  {
   "cell_type": "code",
   "execution_count": null,
   "id": "b0f590db-0a58-4ebe-b6a2-caf358187b88",
   "metadata": {},
   "outputs": [],
   "source": []
  },
  {
   "cell_type": "code",
   "execution_count": null,
   "id": "abdfad90-85fa-446c-9fab-ca2599ecc9b3",
   "metadata": {},
   "outputs": [],
   "source": []
  }
 ],
 "metadata": {
  "kernelspec": {
   "display_name": "Python 3 (ipykernel)",
   "language": "python",
   "name": "python3"
  },
  "language_info": {
   "codemirror_mode": {
    "name": "ipython",
    "version": 3
   },
   "file_extension": ".py",
   "mimetype": "text/x-python",
   "name": "python",
   "nbconvert_exporter": "python",
   "pygments_lexer": "ipython3",
   "version": "3.9.7"
  }
 },
 "nbformat": 4,
 "nbformat_minor": 5
}
