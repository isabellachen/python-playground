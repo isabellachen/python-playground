{
 "cells": [
  {
   "cell_type": "code",
   "execution_count": 1,
   "id": "ccbbb0ff-498f-403e-9d85-83b766ff3276",
   "metadata": {},
   "outputs": [],
   "source": [
    "import decimal as dec"
   ]
  },
  {
   "cell_type": "code",
   "execution_count": 2,
   "id": "2754079b-70af-4bcf-96ab-324c96896512",
   "metadata": {},
   "outputs": [
    {
     "name": "stdout",
     "output_type": "stream",
     "text": [
      "6.25\n"
     ]
    }
   ],
   "source": [
    "dec_value = dec.Decimal('2.5')\n",
    "ans = dec_value ** 2\n",
    "print(ans)"
   ]
  },
  {
   "cell_type": "code",
   "execution_count": 3,
   "id": "2eeb5e41-e8bf-467f-8b39-45ab21de0105",
   "metadata": {},
   "outputs": [
    {
     "data": {
      "text/plain": [
       "140219044207088"
      ]
     },
     "execution_count": 3,
     "metadata": {},
     "output_type": "execute_result"
    }
   ],
   "source": [
    "x = 7\n",
    "id(x)"
   ]
  },
  {
   "cell_type": "code",
   "execution_count": 9,
   "id": "57cf4661-3fdf-41a3-bd53-8067b8b764a4",
   "metadata": {},
   "outputs": [
    {
     "name": "stdout",
     "output_type": "stream",
     "text": [
      "id(number): 140219044207088 True\n"
     ]
    },
    {
     "data": {
      "text/plain": [
       "343"
      ]
     },
     "execution_count": 9,
     "metadata": {},
     "output_type": "execute_result"
    }
   ],
   "source": [
    "def cube(number):\n",
    "    print('id(number):', id(number), number is x)\n",
    "    return number ** 3\n",
    "cube(x)"
   ]
  },
  {
   "cell_type": "code",
   "execution_count": 10,
   "id": "578bf807-95f9-4529-839d-d80b2c887be7",
   "metadata": {},
   "outputs": [
    {
     "name": "stdout",
     "output_type": "stream",
     "text": [
      "id(number): 140219044207088 True\n",
      "id(number) after modification: 140219118843216 False\n"
     ]
    },
    {
     "data": {
      "text/plain": [
       "343"
      ]
     },
     "execution_count": 10,
     "metadata": {},
     "output_type": "execute_result"
    }
   ],
   "source": [
    "def cube(number):\n",
    "    print('id(number):', id(number), number is x)\n",
    "    number **= 3\n",
    "    print('id(number) after modification:', id(number), number is x)\n",
    "    return number\n",
    "cube(x)"
   ]
  },
  {
   "cell_type": "code",
   "execution_count": 13,
   "id": "010a6703-1ea3-4df0-8ca1-53cc72abb232",
   "metadata": {},
   "outputs": [
    {
     "name": "stdout",
     "output_type": "stream",
     "text": [
      "140219118845872\n",
      "140219118842448\n"
     ]
    }
   ],
   "source": [
    "width = 15.5\n",
    "print(id(width))\n",
    "width *= 2\n",
    "print(id(width))"
   ]
  },
  {
   "cell_type": "code",
   "execution_count": 14,
   "id": "61102d89-bbe1-4729-80d1-e00716578193",
   "metadata": {},
   "outputs": [],
   "source": [
    "# p.variance\n",
    "# Sum up values\n",
    "# Calc their mean/average\n",
    "# Subtract mean from every die value\n",
    "# Square each of the results (the difference) - yield positives\n",
    "# Calculate mean of the squares\n",
    "# Squaring the values emphasizes the outliers"
   ]
  },
  {
   "cell_type": "code",
   "execution_count": 18,
   "id": "19547987-6c52-4519-93d1-e64967582529",
   "metadata": {},
   "outputs": [
    {
     "data": {
      "text/plain": [
       "2.25"
      ]
     },
     "execution_count": 18,
     "metadata": {},
     "output_type": "execute_result"
    }
   ],
   "source": [
    "import statistics\n",
    "\n",
    "# values further from the mean/ variance\n",
    "statistics.pvariance([1,3,4,2,6,5,3,4,5,2])"
   ]
  },
  {
   "cell_type": "code",
   "execution_count": 19,
   "id": "6025a225-17ea-4793-8676-fdaec1dbc34c",
   "metadata": {},
   "outputs": [
    {
     "data": {
      "text/plain": [
       "1.5"
      ]
     },
     "execution_count": 19,
     "metadata": {},
     "output_type": "execute_result"
    }
   ],
   "source": [
    "# standard diviation\n",
    "statistics.pstdev([1,3,4,2,6,5,3,4,5,2])"
   ]
  },
  {
   "cell_type": "code",
   "execution_count": 21,
   "id": "48bc5279-7361-4982-be13-c931e3b571a2",
   "metadata": {},
   "outputs": [
    {
     "data": {
      "text/plain": [
       "36.25"
      ]
     },
     "execution_count": 21,
     "metadata": {},
     "output_type": "execute_result"
    }
   ],
   "source": [
    "# values further from the mean/ variance\n",
    "# degrees vs degrees squares\n",
    "statistics.pvariance([19,32,28,35])"
   ]
  },
  {
   "cell_type": "code",
   "execution_count": 26,
   "id": "8e51b377-c9ed-4097-b39e-3e375aa36608",
   "metadata": {},
   "outputs": [
    {
     "name": "stdout",
     "output_type": "stream",
     "text": [
      "the mean is\n"
     ]
    },
    {
     "data": {
      "text/plain": [
       "1.5"
      ]
     },
     "execution_count": 26,
     "metadata": {},
     "output_type": "execute_result"
    }
   ],
   "source": [
    "print('the mean is')\n",
    "statistics.mean([1,1,1,2,2,2])"
   ]
  },
  {
   "cell_type": "code",
   "execution_count": 27,
   "id": "cf9f40a7-22c2-4624-9de1-6235da352e6c",
   "metadata": {},
   "outputs": [
    {
     "name": "stdout",
     "output_type": "stream",
     "text": [
      "each num in arr deviates by 0.5 from the mean\n"
     ]
    },
    {
     "data": {
      "text/plain": [
       "0.5"
      ]
     },
     "execution_count": 27,
     "metadata": {},
     "output_type": "execute_result"
    }
   ],
   "source": [
    "print('each num in arr deviates by 0.5 from the mean')\n",
    "statistics.pstdev([1,1,1,2,2,2])"
   ]
  },
  {
   "cell_type": "code",
   "execution_count": 53,
   "id": "dd0ad5be-f640-43ff-bad6-24527dfc6747",
   "metadata": {},
   "outputs": [
    {
     "data": {
      "text/plain": [
       "25"
      ]
     },
     "execution_count": 53,
     "metadata": {},
     "output_type": "execute_result"
    }
   ],
   "source": [
    "statistics.pvariance([0,0,0,10,10,10])"
   ]
  },
  {
   "cell_type": "code",
   "execution_count": 52,
   "id": "69d931b2-7957-4523-92d1-2a254ec380d4",
   "metadata": {},
   "outputs": [
    {
     "name": "stdout",
     "output_type": "stream",
     "text": [
      "[25.0, 25.0, 25.0, 25.0, 25.0, 25.0]\n",
      "25.0\n"
     ]
    }
   ],
   "source": [
    "arr = [0,0,0,10,10,10]\n",
    "\n",
    "the_mean = sum(arr)/len(arr)\n",
    "\n",
    "difference_arr = []\n",
    "\n",
    "\n",
    "for i in arr:\n",
    "    # sum the difference from all the elements\n",
    "    # divided by the lenght\n",
    "    # square the result\n",
    "    difference_arr.append((i - the_mean)**2)\n",
    "    \n",
    "print(difference_arr)\n",
    "sum_of_difference = sum(difference_arr)\n",
    "print(sum_of_difference/len(arr))"
   ]
  },
  {
   "cell_type": "code",
   "execution_count": 46,
   "id": "2f205bda-18ac-438c-a07f-2f34a9ddc3de",
   "metadata": {},
   "outputs": [
    {
     "name": "stdout",
     "output_type": "stream",
     "text": [
      "1\n",
      "3\n",
      "2\n"
     ]
    }
   ],
   "source": [
    "c = [1,2,3]\n",
    "print(c[0])\n",
    "print(c[-1])\n",
    "print(c[-2])"
   ]
  },
  {
   "cell_type": "code",
   "execution_count": 54,
   "id": "eb0468a9-7251-4445-8f65-f3c51f22eafc",
   "metadata": {},
   "outputs": [
    {
     "data": {
      "text/plain": [
       "[0, 1, 4, 9, 16]"
      ]
     },
     "execution_count": 54,
     "metadata": {},
     "output_type": "execute_result"
    }
   ],
   "source": [
    "[x**2 for x in range(5)]"
   ]
  },
  {
   "cell_type": "code",
   "execution_count": 55,
   "id": "df2e49a3-2d07-4b22-9bf9-00b0e3d41017",
   "metadata": {},
   "outputs": [
    {
     "data": {
      "text/plain": [
       "[(0, 0), (0, 1), (0, 2), (1, 0), (1, 1), (1, 2), (2, 0), (2, 1), (2, 2)]"
      ]
     },
     "execution_count": 55,
     "metadata": {},
     "output_type": "execute_result"
    }
   ],
   "source": [
    "[(x,y) for x in range(3) for y in range(3)]"
   ]
  },
  {
   "cell_type": "code",
   "execution_count": 56,
   "id": "f361d183-5c4a-4645-b041-cc84efdb01ed",
   "metadata": {},
   "outputs": [
    {
     "data": {
      "text/plain": [
       "[(0, 0), (0, 1), (0, 2), (2, 0), (2, 1), (2, 2)]"
      ]
     },
     "execution_count": 56,
     "metadata": {},
     "output_type": "execute_result"
    }
   ],
   "source": [
    "[(x,y) for x in range(3) for y in range(3) if x % 2 == 0]"
   ]
  },
  {
   "cell_type": "code",
   "execution_count": 68,
   "id": "2ae90433-e35c-47ec-9196-ff80f45cfd84",
   "metadata": {},
   "outputs": [
    {
     "data": {
      "text/plain": [
       "25.0"
      ]
     },
     "execution_count": 68,
     "metadata": {},
     "output_type": "execute_result"
    }
   ],
   "source": [
    "def get_mean(pop):\n",
    "    return sum(pop)/len(pop)\n",
    "\n",
    "def get_pvariance(pop):\n",
    "    local_mean = get_mean(pop)\n",
    "    return sum([(x - local_mean) ** 2 for x in pop]) / len(pop)\n",
    "\n",
    "pop = [0,0,0,10,10,10]\n",
    "\n",
    "get_pvariance(pop)"
   ]
  },
  {
   "cell_type": "code",
   "execution_count": 62,
   "id": "5b28d01c-1e49-4937-838f-ab7d27c0494d",
   "metadata": {},
   "outputs": [
    {
     "data": {
      "text/plain": [
       "[1, 2, 3, 4, 5]"
      ]
     },
     "execution_count": 62,
     "metadata": {},
     "output_type": "execute_result"
    }
   ],
   "source": [
    "a_list = []\n",
    "for number in range(1,6):\n",
    "    a_list += [number]\n",
    "    \n",
    "a_list"
   ]
  },
  {
   "cell_type": "code",
   "execution_count": 63,
   "id": "0a270cda-d06c-48d0-93be-dd4063604d30",
   "metadata": {},
   "outputs": [
    {
     "data": {
      "text/plain": [
       "[1, 2, 3, 4, 5, 6]"
      ]
     },
     "execution_count": 63,
     "metadata": {},
     "output_type": "execute_result"
    }
   ],
   "source": [
    "list1 = [1,2,3]\n",
    "list2 = [4,5,6]\n",
    "list1 + list2"
   ]
  },
  {
   "cell_type": "code",
   "execution_count": 70,
   "id": "4b953dda-3a97-4a71-8ab1-63203ea4f5cf",
   "metadata": {},
   "outputs": [
    {
     "name": "stdout",
     "output_type": "stream",
     "text": [
      "True\n",
      "False\n",
      "True\n"
     ]
    }
   ],
   "source": [
    "a = [1,2,3]\n",
    "b = [1,2,3]\n",
    "c = [1,2,3,4]\n",
    "print(a == b)\n",
    "print(a == c)\n",
    "print(a < c)"
   ]
  },
  {
   "cell_type": "code",
   "execution_count": 72,
   "id": "b16c21a3-bc49-407a-9a03-5b1b99e870ce",
   "metadata": {},
   "outputs": [
    {
     "data": {
      "text/plain": [
       "[1, 8, 27, 64, 125, 216, 343, 512, 729]"
      ]
     },
     "execution_count": 72,
     "metadata": {},
     "output_type": "execute_result"
    }
   ],
   "source": [
    "def cube_list(arr):\n",
    "    return [x**3 for x in arr]\n",
    "\n",
    "cube_list(range(1,10))"
   ]
  },
  {
   "cell_type": "code",
   "execution_count": 77,
   "id": "42819285-96ad-4e10-a3e9-f2156320b890",
   "metadata": {},
   "outputs": [
    {
     "name": "stdout",
     "output_type": "stream",
     "text": [
      "['Birthday']\n",
      "['B', 'i', 'r', 't', 'h', 'd', 'a', 'y']\n"
     ]
    }
   ],
   "source": [
    "characters = []\n",
    "characters += ['Birthday']\n",
    "characters2 = []\n",
    "characters2 += 'Birthday'\n",
    "print(characters)\n",
    "print(characters2)"
   ]
  },
  {
   "cell_type": "code",
   "execution_count": 76,
   "id": "09692069-028c-4751-bdbe-c0e5381e6838",
   "metadata": {},
   "outputs": [
    {
     "name": "stdout",
     "output_type": "stream",
     "text": [
      "['B', 'i', 'r', 't', 'h', 'd', 'a', 'y']\n",
      "['B', 'i', 'r', 't', 'h', 'd', 'a', 'y']\n"
     ]
    }
   ],
   "source": [
    "print([*'Birthday'])\n",
    "arr = []\n",
    "arr += \"Birthday\"\n",
    "print(arr)"
   ]
  },
  {
   "cell_type": "code",
   "execution_count": 88,
   "id": "789186de-dd4d-490c-b42d-e58ec0e5fac6",
   "metadata": {},
   "outputs": [
    {
     "name": "stdout",
     "output_type": "stream",
     "text": [
      "[1, 8, 27]\n",
      "[0, 1, 8, 27, 64, 125, 216, 343, 512, 729]\n"
     ]
    }
   ],
   "source": [
    "my_values = [1,2,3]\n",
    "def cube_list(values):\n",
    "    for i in range(len(values)):\n",
    "        values[i] **= 3\n",
    "    return values\n",
    "        \n",
    "print(cube_list(my_values))\n",
    "print(cube_list([*range(10)]))"
   ]
  },
  {
   "cell_type": "code",
   "execution_count": 95,
   "id": "cec58814-8899-4735-8cbb-600eeb4c75f5",
   "metadata": {},
   "outputs": [
    {
     "name": "stdout",
     "output_type": "stream",
     "text": [
      "140219118742336\n",
      "140219118742336\n",
      "(1, 2, 3, 10, 20)\n",
      "(1, 2, 3)\n"
     ]
    }
   ],
   "source": [
    "tuple1 = (1,2,3)\n",
    "tuple2 = tuple1\n",
    "print(id(tuple1))\n",
    "print(id(tuple2))\n",
    "\n",
    "tuple1 += (10, 20)\n",
    "print(tuple1)\n",
    "print(tuple2)"
   ]
  },
  {
   "cell_type": "code",
   "execution_count": 104,
   "id": "98d0bc40-8bdd-4ec9-a0fa-4738a3d6e0cc",
   "metadata": {},
   "outputs": [
    {
     "name": "stdout",
     "output_type": "stream",
     "text": [
      "(123.45,)\n"
     ]
    },
    {
     "data": {
      "text/plain": [
       "123.45"
      ]
     },
     "execution_count": 104,
     "metadata": {},
     "output_type": "execute_result"
    }
   ],
   "source": [
    "single_tuple = (123.45,)\n",
    "print(single_tuple)\n",
    "single_tuple[0]"
   ]
  },
  {
   "cell_type": "code",
   "execution_count": 106,
   "id": "eb4b9775-759b-49b1-935f-d996f46af528",
   "metadata": {},
   "outputs": [
    {
     "ename": "TypeError",
     "evalue": "can only concatenate list (not \"tuple\") to list",
     "output_type": "error",
     "traceback": [
      "\u001b[0;31m---------------------------------------------------------------------------\u001b[0m",
      "\u001b[0;31mTypeError\u001b[0m                                 Traceback (most recent call last)",
      "\u001b[0;32m/var/folders/pk/4gffy8_15hd_0fcz80vjkb540000gn/T/ipykernel_5118/1195203440.py\u001b[0m in \u001b[0;36m<module>\u001b[0;34m\u001b[0m\n\u001b[1;32m      1\u001b[0m \u001b[0mmy_list\u001b[0m \u001b[0;34m=\u001b[0m \u001b[0;34m[\u001b[0m\u001b[0;36m1\u001b[0m\u001b[0;34m,\u001b[0m\u001b[0;36m2\u001b[0m\u001b[0;34m,\u001b[0m\u001b[0;36m3\u001b[0m\u001b[0;34m,\u001b[0m\u001b[0;36m4\u001b[0m\u001b[0;34m]\u001b[0m\u001b[0;34m\u001b[0m\u001b[0;34m\u001b[0m\u001b[0m\n\u001b[1;32m      2\u001b[0m \u001b[0mmy_tup\u001b[0m \u001b[0;34m=\u001b[0m \u001b[0;34m(\u001b[0m\u001b[0;36m3\u001b[0m\u001b[0;34m,\u001b[0m\u001b[0;36m7\u001b[0m\u001b[0;34m,\u001b[0m\u001b[0;36m9\u001b[0m\u001b[0;34m)\u001b[0m\u001b[0;34m\u001b[0m\u001b[0;34m\u001b[0m\u001b[0m\n\u001b[0;32m----> 3\u001b[0;31m \u001b[0mmy_list\u001b[0m \u001b[0;34m+\u001b[0m \u001b[0mmy_tup\u001b[0m\u001b[0;34m\u001b[0m\u001b[0;34m\u001b[0m\u001b[0m\n\u001b[0m",
      "\u001b[0;31mTypeError\u001b[0m: can only concatenate list (not \"tuple\") to list"
     ]
    }
   ],
   "source": [
    "my_list = [1,2,3,4]\n",
    "my_tup = (3,7,9)\n",
    "my_list + my_tup"
   ]
  },
  {
   "cell_type": "code",
   "execution_count": 108,
   "id": "670ae2ee-bab1-4f6b-b25c-fd0535970b88",
   "metadata": {},
   "outputs": [
    {
     "name": "stdout",
     "output_type": "stream",
     "text": [
      "('Sara', [100, 91, 88])\n"
     ]
    }
   ],
   "source": [
    "student_tuple = ('Sara', [65,91,88])\n",
    "student_tuple[1][0] = 100\n",
    "print(student_tuple)"
   ]
  },
  {
   "cell_type": "code",
   "execution_count": 111,
   "id": "943b6121-e0d3-4233-9729-def00ceca65a",
   "metadata": {},
   "outputs": [
    {
     "name": "stdout",
     "output_type": "stream",
     "text": [
      "Sara\n",
      "[65, 91, 88]\n"
     ]
    }
   ],
   "source": [
    "student_tuple = ('Sara', [65,91,88])\n",
    "first_name, grades = student_tuple\n",
    "print(first_name)\n",
    "print(grades)"
   ]
  },
  {
   "cell_type": "code",
   "execution_count": 114,
   "id": "86cd0e6a-f1d2-464f-bd7b-f9a4ee3bdbe1",
   "metadata": {},
   "outputs": [
    {
     "name": "stdout",
     "output_type": "stream",
     "text": [
      "0\n",
      "1\n",
      "2\n"
     ]
    }
   ],
   "source": [
    "num1, num2, num3 = range(3)\n",
    "print(num1)\n",
    "print(num2)\n",
    "print(num3)"
   ]
  },
  {
   "cell_type": "code",
   "execution_count": 116,
   "id": "cf247381-4550-4a37-99fd-be8b4dfd7005",
   "metadata": {},
   "outputs": [
    {
     "name": "stdout",
     "output_type": "stream",
     "text": [
      "13\n",
      "99\n"
     ]
    }
   ],
   "source": [
    "num1 = 99\n",
    "num2 = 13\n",
    "\n",
    "num1, num2 = num2, num1\n",
    "\n",
    "print(num1)\n",
    "print(num2)"
   ]
  },
  {
   "cell_type": "code",
   "execution_count": 118,
   "id": "2508c2f2-fe36-4e38-a8b0-0937f5b67732",
   "metadata": {},
   "outputs": [
    {
     "name": "stdout",
     "output_type": "stream",
     "text": [
      "['red', 'orange', 'yellow']\n",
      "[(0, 'red'), (1, 'orange'), (2, 'yellow')]\n"
     ]
    }
   ],
   "source": [
    "colors = ['red', 'orange', 'yellow']\n",
    "print(list(colors))\n",
    "print(list(enumerate(colors)))"
   ]
  },
  {
   "cell_type": "code",
   "execution_count": 120,
   "id": "d1aa7a0d-4766-4035-a5bd-b8b4b176e3cd",
   "metadata": {},
   "outputs": [
    {
     "name": "stdout",
     "output_type": "stream",
     "text": [
      "0: red\n",
      "1: orange\n",
      "2: yellow\n"
     ]
    }
   ],
   "source": [
    "for index, value in enumerate(colors):\n",
    "    print(f\"{index}: {value}\")"
   ]
  },
  {
   "cell_type": "code",
   "execution_count": 130,
   "id": "52560ab8-a7d8-443f-bbcc-cd8c2b12e300",
   "metadata": {},
   "outputs": [
    {
     "name": "stdout",
     "output_type": "stream",
     "text": [
      "index\tvalue\tbar\n",
      "0\t19\t*******************\n",
      "1\t3\t***\n",
      "2\t15\t***************\n",
      "3\t7\t*******\n",
      "4\t11\t***********\n"
     ]
    }
   ],
   "source": [
    "arr = [19, 3, 15, 7, 11]\n",
    "def plot_barchart(arr):\n",
    "    print('index\\tvalue\\tbar')\n",
    "    for index, value in enumerate(arr):\n",
    "        print(index, value, '*'*value, sep='\\t')\n",
    "\n",
    "plot_barchart(arr)\n",
    "        "
   ]
  },
  {
   "cell_type": "code",
   "execution_count": 133,
   "id": "54c7c0bc-3353-4741-b0f3-ccb61b5dfc94",
   "metadata": {},
   "outputs": [
    {
     "data": {
      "text/plain": [
       "'hey carl hey carl hey carl hey carl hey carl hey carl hey carl hey carl hey carl hey carl hey carl hey carl hey carl hey carl hey carl hey carl hey carl hey carl hey carl hey carl hey carl hey carl hey carl hey carl hey carl hey carl hey carl hey carl hey carl hey carl hey carl hey carl hey carl hey carl hey carl hey carl hey carl hey carl hey carl hey carl hey carl hey carl hey carl hey carl hey carl hey carl hey carl hey carl hey carl hey carl hey carl hey carl hey carl hey carl hey carl hey carl hey carl hey carl hey carl hey carl hey carl hey carl hey carl hey carl hey carl hey carl hey carl hey carl hey carl hey carl hey carl hey carl hey carl hey carl hey carl hey carl hey carl hey carl hey carl hey carl hey carl hey carl hey carl hey carl hey carl hey carl hey carl hey carl hey carl hey carl hey carl hey carl hey carl hey carl hey carl hey carl hey carl hey carl hey carl hey carl '"
      ]
     },
     "execution_count": 133,
     "metadata": {},
     "output_type": "execute_result"
    }
   ],
   "source": [
    "'hey carl '*100"
   ]
  },
  {
   "cell_type": "code",
   "execution_count": 137,
   "id": "18a12676-dca0-4ead-bc4b-9bd4d046af93",
   "metadata": {},
   "outputs": [
    {
     "name": "stdout",
     "output_type": "stream",
     "text": [
      "index\tvalue\tbar\n",
      "    0       19 *******************\n",
      "    1        3 ***\n",
      "    2       15 ***************\n",
      "    3        7 *******\n",
      "    4       11 ***********\n"
     ]
    }
   ],
   "source": [
    "arr = [19, 3, 15, 7, 11]\n",
    "def plot_barchart(arr):\n",
    "    print('index\\tvalue\\tbar')\n",
    "    for index, value in enumerate(arr):\n",
    "        print(f'{index:>5} {value:8} {\"*\"*value}')\n",
    "\n",
    "plot_barchart(arr)"
   ]
  },
  {
   "cell_type": "code",
   "execution_count": 148,
   "id": "05f66c6a-7a85-4ae6-8f00-adc49a9f76c2",
   "metadata": {},
   "outputs": [
    {
     "name": "stdout",
     "output_type": "stream",
     "text": [
      "Day        High       Low       \n",
      "Monday             32         26\n"
     ]
    }
   ],
   "source": [
    "high_low = ('Monday', 32, 26)\n",
    "print(f'{\"Day\":10} {\"High\":10} {\"Low\":10}')\n",
    "print(f'{high_low[0]:10} {high_low[1]:10} {high_low[2]:10}')"
   ]
  },
  {
   "cell_type": "code",
   "execution_count": 156,
   "id": "460568f4-5b2d-4e41-a594-8feebacc68ec",
   "metadata": {},
   "outputs": [
    {
     "name": "stdout",
     "output_type": "stream",
     "text": [
      "[5, 7, 11, 12]\n",
      "[2, 4]\n",
      "[5, 7, 11, 12]\n"
     ]
    }
   ],
   "source": [
    "numbers = [2,4,5,7,11,12]\n",
    "print(numbers[2:6])\n",
    "print(numbers[:2])\n",
    "print(numbers[2:])"
   ]
  },
  {
   "cell_type": "code",
   "execution_count": 160,
   "id": "51b22e41-633e-4eae-b0d0-9a55218e5fd3",
   "metadata": {},
   "outputs": [
    {
     "name": "stdout",
     "output_type": "stream",
     "text": [
      "140219119991168\n",
      "140219140205568\n",
      "140219044206928\n",
      "140219044206928\n"
     ]
    }
   ],
   "source": [
    "nums = [2,4,5,7,11,12]\n",
    "nums_copy = nums[:]\n",
    "print(id(nums))\n",
    "print(id(nums_copy))\n",
    "\n",
    "# observe slice gives shallow copy of numbers\n",
    "print(id(nums[0]))\n",
    "print(id(nums_copy[0]))"
   ]
  },
  {
   "cell_type": "code",
   "execution_count": 166,
   "id": "560d4897-fe37-40b2-b4e1-52b833acdb54",
   "metadata": {},
   "outputs": [
    {
     "name": "stdout",
     "output_type": "stream",
     "text": [
      "[0, 2, 4, 6, 8]\n",
      "[8, 7, 6, 5, 4, 3, 2, 1, 0]\n",
      "[8, 6, 4, 2, 0]\n"
     ]
    }
   ],
   "source": [
    "nums = [0,1,2,3,4,5,6,7,8]\n",
    "print(nums[::2])\n",
    "print(nums[::-1])\n",
    "print(nums[::-2])"
   ]
  },
  {
   "cell_type": "code",
   "execution_count": 168,
   "id": "facbafe1-5940-4280-99cf-c8f4b7d8d6f7",
   "metadata": {},
   "outputs": [
    {
     "name": "stdout",
     "output_type": "stream",
     "text": [
      "[3, 4, 5, 6, 7, 8]\n"
     ]
    }
   ],
   "source": [
    "nums = [0,1,2,3,4,5,6,7,8]\n",
    "nums[0:3] = []\n",
    "print(nums)"
   ]
  },
  {
   "cell_type": "code",
   "execution_count": 170,
   "id": "03601a2e-ab78-4091-b104-6c85152f38d8",
   "metadata": {},
   "outputs": [
    {
     "name": "stdout",
     "output_type": "stream",
     "text": [
      "[100, 1, 100, 3, 100, 5, 100, 7, 100]\n"
     ]
    }
   ],
   "source": [
    "nums = [0,1,2,3,4,5,6,7,8]\n",
    "nums[::2] = [100,100,100,100,100]\n",
    "print(nums)"
   ]
  },
  {
   "cell_type": "code",
   "execution_count": 183,
   "id": "42bdbd57-6bd7-4c74-83e8-1870fd998113",
   "metadata": {},
   "outputs": [
    {
     "name": "stdout",
     "output_type": "stream",
     "text": [
      "[1, 3, 5, 7, 9, 11, 13]\n"
     ]
    }
   ],
   "source": [
    "nums = [*range(1,15)]\n",
    "print(nums[::2])"
   ]
  },
  {
   "cell_type": "code",
   "execution_count": 186,
   "id": "acc88263-74ed-4686-98b1-af5a898dd2e0",
   "metadata": {},
   "outputs": [
    {
     "name": "stdout",
     "output_type": "stream",
     "text": [
      "[1, 2, 3, 4, 5, 0, 0, 0, 0, 0, 10, 11, 12, 13, 14]\n",
      "[1, 2, 3, 4, 5]\n"
     ]
    }
   ],
   "source": [
    "nums = [*range(1,15)]\n",
    "nums[5:9] = [0] * len(nums[5:10])\n",
    "print(nums)\n",
    "print(nums[:5])"
   ]
  },
  {
   "cell_type": "code",
   "execution_count": 181,
   "id": "a877e400-26c8-47f9-80e8-42e7ee5f08cf",
   "metadata": {},
   "outputs": [
    {
     "name": "stdout",
     "output_type": "stream",
     "text": [
      "[1, 2, 3, 4, 5, 6, 7, 8, 9, 10, 11, 12, 13, 14]\n",
      "[1, 2, 3, 4, 5]\n"
     ]
    }
   ],
   "source": [
    "nums = [*range(1,15)]\n",
    "print(nums)\n",
    "nums[5:] = []\n",
    "print(nums)"
   ]
  },
  {
   "cell_type": "code",
   "execution_count": 187,
   "id": "c881ede5-8f02-4adc-9cf1-7556b4012dee",
   "metadata": {},
   "outputs": [
    {
     "name": "stdout",
     "output_type": "stream",
     "text": [
      "[3, 4, 5]\n"
     ]
    }
   ],
   "source": [
    "nums = [1,2,3,4,5]\n",
    "del nums[0:2]\n",
    "print(nums)"
   ]
  },
  {
   "cell_type": "code",
   "execution_count": 188,
   "id": "53f8cff3-10c0-4b6a-9e93-6389a400c75e",
   "metadata": {},
   "outputs": [
    {
     "name": "stdout",
     "output_type": "stream",
     "text": [
      "[5, 6, 7, 8, 9, 10, 11, 12, 13, 14]\n"
     ]
    }
   ],
   "source": [
    "nums = [*range(1,15)]\n",
    "del nums[0:4]\n",
    "print(nums)"
   ]
  },
  {
   "cell_type": "code",
   "execution_count": 189,
   "id": "209fabcb-bd4b-4f12-b8b7-9e22af85146d",
   "metadata": {},
   "outputs": [
    {
     "name": "stdout",
     "output_type": "stream",
     "text": [
      "[2, 4, 6, 8, 10, 12, 14]\n"
     ]
    }
   ],
   "source": [
    "nums = [*range(1,15)]\n",
    "del nums[::2]\n",
    "print(nums)"
   ]
  },
  {
   "cell_type": "code",
   "execution_count": 195,
   "id": "4cadd307-c577-4f3d-ba6d-8a52ecffbe1d",
   "metadata": {},
   "outputs": [
    {
     "name": "stdout",
     "output_type": "stream",
     "text": [
      "[2, 4, 6, 8, 10]\n"
     ]
    }
   ],
   "source": [
    "def modify_items(items):\n",
    "    for i in range(len(items)):\n",
    "        items[i] *= 2\n",
    "    \n",
    "        \n",
    "numbers = [1,2,3,4,5]\n",
    "modify_items(numbers)\n",
    "print(numbers)"
   ]
  },
  {
   "cell_type": "code",
   "execution_count": 199,
   "id": "00309b1d-ce80-4530-a2ee-18679668cb09",
   "metadata": {},
   "outputs": [
    {
     "name": "stdout",
     "output_type": "stream",
     "text": [
      "[1, 3, 4, 6, 8, 8, 14, 85, 100]\n",
      "None\n"
     ]
    }
   ],
   "source": [
    "numbers = [100,6,1,3,8,4,8,14,85]\n",
    "asc = numbers.sort()\n",
    "print(numbers)\n",
    "print(asc) # .sort Does not return anything"
   ]
  },
  {
   "cell_type": "code",
   "execution_count": 198,
   "id": "39f4e0c6-220b-4dd9-abda-80c761d57ce9",
   "metadata": {},
   "outputs": [
    {
     "name": "stdout",
     "output_type": "stream",
     "text": [
      "[100, 85, 14, 8, 8, 6, 4, 3, 1]\n"
     ]
    }
   ],
   "source": [
    "numbers = [100,6,1,3,8,4,8,14,85]\n",
    "numbers.sort(reverse=True)\n",
    "print(numbers)"
   ]
  },
  {
   "cell_type": "code",
   "execution_count": 201,
   "id": "71935da7-9123-46f4-9dfb-2a3ae23ce0f1",
   "metadata": {},
   "outputs": [
    {
     "name": "stdout",
     "output_type": "stream",
     "text": [
      "[100, 6, 1, 3, 8, 4, 8, 14, 85]\n",
      "[1, 3, 4, 6, 8, 8, 14, 85, 100]\n"
     ]
    }
   ],
   "source": [
    "numbers = [100,6,1,3,8,4,8,14,85]\n",
    "sortedeNumbers = sorted(numbers)\n",
    "print(numbers)\n",
    "print(sortedeNumbers)"
   ]
  },
  {
   "cell_type": "code",
   "execution_count": 203,
   "id": "b32981a9-c270-4644-9f8b-695c59129181",
   "metadata": {},
   "outputs": [
    {
     "name": "stdout",
     "output_type": "stream",
     "text": [
      "hello world !\n",
      "[' ', ' ', '!', 'd', 'e', 'h', 'l', 'l', 'l', 'o', 'o', 'r', 'w']\n"
     ]
    }
   ],
   "source": [
    "letters='hello world !'\n",
    "asc_letters = sorted(letters)\n",
    "print(letters)\n",
    "print(asc_letters)"
   ]
  },
  {
   "cell_type": "code",
   "execution_count": 210,
   "id": "0b261e68-3a8e-47f9-ab2b-ce2a229ff8ec",
   "metadata": {},
   "outputs": [
    {
     "name": "stdout",
     "output_type": "stream",
     "text": [
      "['Cookies', 'Mango', 'pie', 'pizza', 'yellow']\n",
      "['yellow', 'pizza', 'pie', 'Mango', 'Cookies']\n"
     ]
    }
   ],
   "source": [
    "foods = ['yellow','Cookies', 'pizza', 'Mango', 'pie']\n",
    "asc_foods = sorted(foods)\n",
    "print(asc_foods)\n",
    "foods.sort(reverse=True)\n",
    "print(foods)"
   ]
  },
  {
   "cell_type": "code",
   "execution_count": 212,
   "id": "df707de3-35df-4159-ba44-2608a730c6e6",
   "metadata": {},
   "outputs": [
    {
     "name": "stdout",
     "output_type": "stream",
     "text": [
      "['yellow', 'pizza', 'pie', 'Mango', 'Cookies']\n"
     ]
    }
   ],
   "source": [
    "foods = ['yellow','Cookies', 'pizza', 'Mango', 'pie']\n",
    "asc_foods = sorted(foods, key=lambda w: w.lower(), reverse=True)\n",
    "print(asc_foods)"
   ]
  },
  {
   "cell_type": "code",
   "execution_count": 216,
   "id": "8e22f99e-9810-48b5-8615-18fce73667b8",
   "metadata": {},
   "outputs": [
    {
     "name": "stdout",
     "output_type": "stream",
     "text": [
      "5\n",
      "[0, 1, 2, 3, 4, 5, 0, 1, 2, 3, 4, 5]\n",
      "11\n"
     ]
    }
   ],
   "source": [
    "numbers = [0,1,2,3,4,5]\n",
    "print(numbers.index(5))\n",
    "numbers *= 2\n",
    "print(numbers)\n",
    "print(numbers.index(5,7))"
   ]
  },
  {
   "cell_type": "code",
   "execution_count": 224,
   "id": "d7587dec-a1a0-4fdc-a119-86d4b66a7096",
   "metadata": {},
   "outputs": [
    {
     "name": "stdout",
     "output_type": "stream",
     "text": [
      "2\n",
      "4\n"
     ]
    }
   ],
   "source": [
    "numbers = [0,1,2,2,3,4,5,6]\n",
    "print(numbers.index(2,0,5))\n",
    "print(numbers.index(3,0,5))"
   ]
  },
  {
   "cell_type": "code",
   "execution_count": 220,
   "id": "b712a2db-a079-4e78-9e01-386aae0cbae1",
   "metadata": {},
   "outputs": [
    {
     "data": {
      "text/plain": [
       "\u001b[0;31mSignature:\u001b[0m \u001b[0mnumbers\u001b[0m\u001b[0;34m.\u001b[0m\u001b[0mindex\u001b[0m\u001b[0;34m(\u001b[0m\u001b[0mvalue\u001b[0m\u001b[0;34m,\u001b[0m \u001b[0mstart\u001b[0m\u001b[0;34m=\u001b[0m\u001b[0;36m0\u001b[0m\u001b[0;34m,\u001b[0m \u001b[0mstop\u001b[0m\u001b[0;34m=\u001b[0m\u001b[0;36m9223372036854775807\u001b[0m\u001b[0;34m,\u001b[0m \u001b[0;34m/\u001b[0m\u001b[0;34m)\u001b[0m\u001b[0;34m\u001b[0m\u001b[0;34m\u001b[0m\u001b[0m\n",
       "\u001b[0;31mDocstring:\u001b[0m\n",
       "Return first index of value.\n",
       "\n",
       "Raises ValueError if the value is not present.\n",
       "\u001b[0;31mType:\u001b[0m      builtin_function_or_method\n"
      ]
     },
     "metadata": {},
     "output_type": "display_data"
    }
   ],
   "source": [
    "numbers.index?"
   ]
  },
  {
   "cell_type": "code",
   "execution_count": 226,
   "id": "f622da87-3729-4285-b2c5-9ca1e3f148bd",
   "metadata": {},
   "outputs": [
    {
     "name": "stdout",
     "output_type": "stream",
     "text": [
      "3\n"
     ]
    }
   ],
   "source": [
    "numbers = [67,12,46,43,13]\n",
    "print(numbers.index(43))"
   ]
  },
  {
   "cell_type": "code",
   "execution_count": 239,
   "id": "a99fa38a-8996-456b-a3ac-298620cd2a4f",
   "metadata": {},
   "outputs": [],
   "source": [
    "numbers = [67,12,46,43,13]\n",
    "\n",
    "def get_num(item, list):\n",
    "    try:\n",
    "        return list.index(item)\n",
    "    except ValueError:\n",
    "        return None\n",
    "        \n",
    "get_num(500, numbers)"
   ]
  },
  {
   "cell_type": "code",
   "execution_count": null,
   "id": "0a6ab390-b948-4e11-a335-bdccbd64993e",
   "metadata": {},
   "outputs": [],
   "source": []
  }
 ],
 "metadata": {
  "kernelspec": {
   "display_name": "Python 3 (ipykernel)",
   "language": "python",
   "name": "python3"
  },
  "language_info": {
   "codemirror_mode": {
    "name": "ipython",
    "version": 3
   },
   "file_extension": ".py",
   "mimetype": "text/x-python",
   "name": "python",
   "nbconvert_exporter": "python",
   "pygments_lexer": "ipython3",
   "version": "3.9.7"
  }
 },
 "nbformat": 4,
 "nbformat_minor": 5
}
