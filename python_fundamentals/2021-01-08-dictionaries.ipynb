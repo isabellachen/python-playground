{
 "cells": [
  {
   "cell_type": "code",
   "execution_count": 3,
   "id": "a0655a5b-78f9-47bd-9d95-b197704fe3c4",
   "metadata": {},
   "outputs": [
    {
     "data": {
      "text/plain": [
       "True"
      ]
     },
     "execution_count": 3,
     "metadata": {},
     "output_type": "execute_result"
    }
   ],
   "source": [
    "capitals1 = {'Belgium': 'Brussels', 'Haiti': 'Port-au-Prince'}\n",
    "capitals2 = {'Haiti': 'Port-au-Prince', 'Belgium': 'Brussels'}\n",
    "capitals1 == capitals2"
   ]
  },
  {
   "cell_type": "code",
   "execution_count": 6,
   "id": "7f3ab850-d837-4d49-a877-aa669d1462c6",
   "metadata": {},
   "outputs": [
    {
     "name": "stdout",
     "output_type": "stream",
     "text": [
      "anne has an average grade of 91.5\n",
      "anne [88, 90, 75, 89]\n",
      "bob has an average grade of 65.0\n",
      "bob [88, 90, 75, 89]\n",
      "sara has an average grade of 85.5\n",
      "sara [88, 90, 75, 89]\n"
     ]
    }
   ],
   "source": [
    "grade_book = {\n",
    "    'anne': [98,99,88,81],\n",
    "    'bob': [50,65,75,70],\n",
    "    'sara': [88, 90, 75, 89]\n",
    "}\n",
    "\n",
    "all_grades_total = 0\n",
    "all_grades_count = 0\n",
    "\n",
    "for name, grades in grade_book.items():\n",
    "    total = sum(grades)\n",
    "    print(f'{name} has an average grade of {total/len(grades)}')\n",
    "    print(name, grade)\n",
    "    "
   ]
  },
  {
   "cell_type": "code",
   "execution_count": 9,
   "id": "a4f3f460-f536-4243-a006-ecbf6ea6ee1f",
   "metadata": {},
   "outputs": [
    {
     "name": "stdout",
     "output_type": "stream",
     "text": [
      "WORD        COUNT\n",
      "a           1\n",
      "apples      1\n",
      "brown       1\n",
      "dog         1\n",
      "fox         2\n",
      "has         1\n",
      "jumps       1\n",
      "like        1\n",
      "over        1\n",
      "quick       2\n",
      "red         1\n",
      "that        1\n",
      "the         1\n",
      "thelazy     1\n"
     ]
    }
   ],
   "source": [
    "text = ('the quick brown fox jumps over the'\n",
    "        'lazy dog has a quick red fox that like apples')\n",
    "\n",
    "word_counts = {}\n",
    "\n",
    "for word in text.split():\n",
    "    if word in word_counts:\n",
    "        word_counts[word] += 1\n",
    "    else:\n",
    "        word_counts[word] = 1\n",
    "        \n",
    "print(f'{\"WORD\":<12}COUNT')\n",
    "\n",
    "for word, count in sorted(word_counts.items()):\n",
    "    print(f'{word:<12}{count}')"
   ]
  },
  {
   "cell_type": "code",
   "execution_count": 13,
   "id": "536a590e-0906-4cd0-af58-bef07ac37fb3",
   "metadata": {},
   "outputs": [
    {
     "name": "stdout",
     "output_type": "stream",
     "text": [
      "quick       2\n",
      "fox         2\n",
      "the         1\n",
      "brown       1\n",
      "jumps       1\n",
      "over        1\n",
      "thelazy     1\n",
      "dog         1\n",
      "has         1\n",
      "a           1\n",
      "red         1\n",
      "that        1\n",
      "like        1\n",
      "apples      1\n"
     ]
    }
   ],
   "source": [
    "for word in sorted(word_counts.keys(), key=lambda word: word_counts[word], reverse=True):\n",
    "    count = word_counts[word]\n",
    "    print(f'{word:<12}{count}')"
   ]
  },
  {
   "cell_type": "code",
   "execution_count": 17,
   "id": "18e9423b-0994-4268-b136-72bd4c61892b",
   "metadata": {},
   "outputs": [
    {
     "name": "stdout",
     "output_type": "stream",
     "text": [
      "a           2\n",
      "and         1\n",
      "apples      1\n",
      "brown       1\n",
      "dog         2\n",
      "fox         2\n",
      "has         1\n",
      "jumps       1\n",
      "lazy        1\n",
      "like        1\n",
      "over        1\n",
      "quick       2\n",
      "red         1\n",
      "that        1\n",
      "the         1\n",
      "thelazy     1\n"
     ]
    }
   ],
   "source": [
    "from collections import Counter\n",
    "\n",
    "text = ('the quick brown fox jumps over the'\n",
    "        'lazy dog has a quick red fox that like apples and a lazy dog')\n",
    "\n",
    "counter = Counter(text.split())\n",
    "for word, count in sorted(counter.items()):\n",
    "    print(f'{word:<12}{count}')"
   ]
  },
  {
   "cell_type": "code",
   "execution_count": 23,
   "id": "ecec3d37-68f1-490d-9631-52c37d49fb10",
   "metadata": {},
   "outputs": [
    {
     "name": "stdout",
     "output_type": "stream",
     "text": [
      "the         1\n",
      "brown       1\n",
      "jumps       1\n",
      "over        1\n",
      "thelazy     1\n",
      "has         1\n",
      "red         1\n",
      "that        1\n",
      "like        1\n",
      "apples      1\n",
      "and         1\n",
      "lazy        1\n",
      "quick       2\n",
      "fox         2\n",
      "dog         2\n",
      "a           2\n"
     ]
    }
   ],
   "source": [
    "for word in sorted(counter.keys(), key=lambda word: counter[word]):\n",
    "    count = counter[word]\n",
    "    print(f'{word:<12}{count}')"
   ]
  },
  {
   "cell_type": "code",
   "execution_count": 35,
   "id": "a37ad9e0-209f-4cef-b82f-fd5b49338355",
   "metadata": {},
   "outputs": [
    {
     "name": "stdout",
     "output_type": "stream",
     "text": [
      "Counter({3: 12, 2: 11, 5: 9, 1: 9, 4: 9})\n",
      "NUM         FREQ\n",
      "2           11\n",
      "3           12\n",
      "5           9\n",
      "1           9\n",
      "4           9\n"
     ]
    }
   ],
   "source": [
    "import random\n",
    "\n",
    "rand_nums = [random.randrange(1,6) for x in range(50)]\n",
    "counter = Counter(rand_nums)\n",
    "print(counter)\n",
    "print(f'{\"NUM\":<12}FREQ')\n",
    "for num, freq in counter.items():\n",
    "    print(f'{num:<12}{freq}')"
   ]
  },
  {
   "cell_type": "code",
   "execution_count": 38,
   "id": "3f05d4ea-6204-43d8-aeda-0aeb37cbc003",
   "metadata": {},
   "outputs": [
    {
     "name": "stdout",
     "output_type": "stream",
     "text": [
      "NUM         FREQ\n",
      "5           9\n",
      "1           9\n",
      "4           9\n",
      "2           11\n",
      "3           12\n"
     ]
    }
   ],
   "source": [
    "print(f'{\"NUM\":<12}FREQ')\n",
    "for num in sorted(counter.keys(), key=lambda num: counter[num]):\n",
    "    freq = counter[num]\n",
    "    print(f'{num:<12}{freq}')"
   ]
  },
  {
   "cell_type": "code",
   "execution_count": 39,
   "id": "e17276e4-eb9a-4fdf-ac1a-6d0e7768c67f",
   "metadata": {},
   "outputs": [
    {
     "name": "stdout",
     "output_type": "stream",
     "text": [
      "{'orange': 'sweet-sour'}\n"
     ]
    }
   ],
   "source": [
    "fruits = {}\n",
    "fruits.update({'orange': 'sweet-sour'})\n",
    "print(fruits)"
   ]
  },
  {
   "cell_type": "code",
   "execution_count": 41,
   "id": "10fe0a51-59e8-4066-8373-a8853a2d54fe",
   "metadata": {},
   "outputs": [
    {
     "name": "stdout",
     "output_type": "stream",
     "text": [
      "{'orange': 'sweet-sour', 'apple': 'sweet-crunchy', 'lemon': 'yellow', 'mango': 'sweet'}\n",
      "{'orange': 'sweet-sour', 'apple': 'sweet-crunchy', 'lemon': 'sour', 'mango': 'sweet'}\n"
     ]
    }
   ],
   "source": [
    "fruits.update(\n",
    "    apple='sweet-crunchy',\n",
    "    lemon='yellow',\n",
    "    mango='sweet'\n",
    "    )\n",
    "print(fruits)\n",
    "fruits.update(lemon='sour')\n",
    "print(fruits)"
   ]
  },
  {
   "cell_type": "code",
   "execution_count": 44,
   "id": "298bacdf-aa89-4fe5-99c5-a8aa60e8a10a",
   "metadata": {},
   "outputs": [
    {
     "data": {
      "text/plain": [
       "{1: 'jan', 2: 'feb', 12: 'dec', 6: 'jun'}"
      ]
     },
     "execution_count": 44,
     "metadata": {},
     "output_type": "execute_result"
    }
   ],
   "source": [
    "months = {'jan': 1, 'feb': 2, 'dec': 12, 'jun': 6}\n",
    "\n",
    "months2 = {number: name for name, number in months.items()}\n",
    "\n",
    "months2"
   ]
  },
  {
   "cell_type": "code",
   "execution_count": 48,
   "id": "e347576d-f4d2-4ea7-809a-7e88ed126963",
   "metadata": {},
   "outputs": [
    {
     "name": "stdout",
     "output_type": "stream",
     "text": [
      "{'anne': 91.5, 'bob': 65.0, 'sara': 85.5}\n"
     ]
    }
   ],
   "source": [
    "grade_book = {\n",
    "    'anne': [98,99,88,81],\n",
    "    'bob': [50,65,75,70],\n",
    "    'sara': [88, 90, 75, 89]\n",
    "}\n",
    "\n",
    "grades2 = {k: sum(v)/len(v) for k,v in grade_book.items()}\n",
    "print(grades2)"
   ]
  },
  {
   "cell_type": "code",
   "execution_count": 52,
   "id": "e90be3ac-587b-4814-9bef-15ccce6a0c05",
   "metadata": {},
   "outputs": [
    {
     "data": {
      "text/plain": [
       "{1: 1, 2: 8, 3: 27, 4: 64, 5: 125}"
      ]
     },
     "execution_count": 52,
     "metadata": {},
     "output_type": "execute_result"
    }
   ],
   "source": [
    "[num for num in range(1,6)]\n",
    "{num: num**3 for num in range(1,6)}"
   ]
  },
  {
   "cell_type": "code",
   "execution_count": 61,
   "id": "9b280dff-075f-4aa4-bfc1-206a2f8d0cda",
   "metadata": {},
   "outputs": [],
   "source": [
    "my_list = [random.randrange(1,50) for num in range(10)]"
   ]
  },
  {
   "cell_type": "code",
   "execution_count": 63,
   "id": "684ddb74-f505-4cac-bc57-57c9ffdc3ac4",
   "metadata": {},
   "outputs": [
    {
     "data": {
      "text/plain": [
       "{1: 1, 2: 8, 3: 27, 4: 64, 5: 125}"
      ]
     },
     "execution_count": 63,
     "metadata": {},
     "output_type": "execute_result"
    }
   ],
   "source": [
    "{num: num**3 for num in range(1, 6)}"
   ]
  },
  {
   "cell_type": "code",
   "execution_count": 65,
   "id": "427fbe39-43a7-4d53-8121-9cd294597f31",
   "metadata": {},
   "outputs": [
    {
     "data": {
      "text/plain": [
       "[98, 99, 88, 81, 50, 65, 75, 70, 88, 90, 75, 89]"
      ]
     },
     "execution_count": 65,
     "metadata": {},
     "output_type": "execute_result"
    }
   ],
   "source": [
    "grade_book = {\n",
    "    'anne': [98,99,88,81],\n",
    "    'bob': [50,65,75,70],\n",
    "    'sara': [88, 90, 75, 89]\n",
    "}\n",
    "\n",
    "all_grades = [grade for grades in grade_book.values() for grade in grades]\n",
    "all_grades"
   ]
  },
  {
   "cell_type": "code",
   "execution_count": 66,
   "id": "ad437de8-efa0-4d8e-a995-ca017b640a13",
   "metadata": {},
   "outputs": [
    {
     "data": {
      "text/plain": [
       "{'apple', 'avocado', 'mango', 'peach'}"
      ]
     },
     "execution_count": 66,
     "metadata": {},
     "output_type": "execute_result"
    }
   ],
   "source": [
    "fruit = {'avocado', 'apple', 'mango', 'peach', 'mango'}\n",
    "fruit"
   ]
  },
  {
   "cell_type": "code",
   "execution_count": 68,
   "id": "07e05666-9a29-4134-bb09-aec43931ec61",
   "metadata": {},
   "outputs": [
    {
     "name": "stdout",
     "output_type": "stream",
     "text": [
      "ORANGE APPLE LEMON MANGO "
     ]
    }
   ],
   "source": [
    "for fruit in fruits:\n",
    "    print(fruit.upper(), end=\" \")"
   ]
  },
  {
   "cell_type": "code",
   "execution_count": 69,
   "id": "43a5a04d-1c03-49db-9968-694f2d5cc22f",
   "metadata": {},
   "outputs": [
    {
     "data": {
      "text/plain": [
       "{1, 2, 4, 5, 7}"
      ]
     },
     "execution_count": 69,
     "metadata": {},
     "output_type": "execute_result"
    }
   ],
   "source": [
    "nums = [4,5,7,2,1,1,1,7]\n",
    "set(nums)"
   ]
  },
  {
   "cell_type": "code",
   "execution_count": 72,
   "id": "8ef0bb39-e96e-4cac-b077-938aa1f5db29",
   "metadata": {},
   "outputs": [
    {
     "name": "stdout",
     "output_type": "stream",
     "text": [
      "['brown', 'dog', 'fox', 'jumps', 'lazy', 'like', 'more', 'other', 'over', 'quick', 'red', 'slow', 'than', 'the']\n"
     ]
    }
   ],
   "source": [
    "str = 'the quick brown fox jumps over the lazy dog like the slow red fox more than the other dog'\n",
    "\n",
    "my_set = set(str.split())\n",
    "print(sorted(my_set))"
   ]
  },
  {
   "cell_type": "code",
   "execution_count": 80,
   "id": "ae9a0987-ef6f-4e3a-b508-b875f3a54eb1",
   "metadata": {},
   "outputs": [
    {
     "name": "stdout",
     "output_type": "stream",
     "text": [
      "{'the': 4, 'fox': 2, 'dog': 2, 'quick': 1, 'brown': 1, 'jumps': 1, 'over': 1, 'lazy': 1, 'like': 1, 'slow': 1, 'red': 1, 'more': 1, 'than': 1, 'other': 1}\n"
     ]
    }
   ],
   "source": [
    "counter = Counter(str.split())\n",
    "\n",
    "print({word:freq for word, freq in counter.most_common()})"
   ]
  },
  {
   "cell_type": "code",
   "execution_count": 100,
   "id": "79976589-bf53-4f1d-88fd-3dfe23a483a6",
   "metadata": {},
   "outputs": [
    {
     "data": {
      "text/plain": [
       "1"
      ]
     },
     "execution_count": 100,
     "metadata": {},
     "output_type": "execute_result"
    }
   ],
   "source": [
    "{20, 10} > {10, 10, 10, 10, 10}\n",
    "len({10, 10, 10, 10, 10})"
   ]
  },
  {
   "cell_type": "code",
   "execution_count": 91,
   "id": "4eadd3b3-7937-4507-9caf-8918e617fd73",
   "metadata": {},
   "outputs": [
    {
     "data": {
      "text/plain": [
       "True"
      ]
     },
     "execution_count": 91,
     "metadata": {},
     "output_type": "execute_result"
    }
   ],
   "source": [
    "{1,3,5}.issubset({1,3,5,10})"
   ]
  },
  {
   "cell_type": "code",
   "execution_count": 105,
   "id": "17b9e173-5dda-4f6f-a38a-a7f32eac5e14",
   "metadata": {},
   "outputs": [
    {
     "data": {
      "text/plain": [
       "True"
      ]
     },
     "execution_count": 105,
     "metadata": {},
     "output_type": "execute_result"
    }
   ],
   "source": [
    "set('abc def ghi jkl mno') >= set('hi mom')\n",
    "set('abc def ghi jkl mno').issuperset('hi mom')"
   ]
  },
  {
   "cell_type": "code",
   "execution_count": 106,
   "id": "1a18be12-40ca-4fda-b6d4-b76bc966bff2",
   "metadata": {},
   "outputs": [
    {
     "data": {
      "text/plain": [
       "{1, 2, 3}"
      ]
     },
     "execution_count": 106,
     "metadata": {},
     "output_type": "execute_result"
    }
   ],
   "source": [
    "{1,2,3}|{3,2,1}"
   ]
  },
  {
   "cell_type": "code",
   "execution_count": 108,
   "id": "550668fa-450e-4d10-8c4f-cc849288f5f4",
   "metadata": {},
   "outputs": [
    {
     "data": {
      "text/plain": [
       "{1, 2, 3, 4, 5, 6, 7}"
      ]
     },
     "execution_count": 108,
     "metadata": {},
     "output_type": "execute_result"
    }
   ],
   "source": [
    "{7,1,2,3}.union([1,2,7,3,4,5,6])"
   ]
  },
  {
   "cell_type": "code",
   "execution_count": 109,
   "id": "50d53c6a-697c-463d-afc2-95e2dee672bc",
   "metadata": {},
   "outputs": [
    {
     "data": {
      "text/plain": [
       "{7}"
      ]
     },
     "execution_count": 109,
     "metadata": {},
     "output_type": "execute_result"
    }
   ],
   "source": [
    "{1,3,5,7}.difference([1,3,5,6])"
   ]
  },
  {
   "cell_type": "code",
   "execution_count": 114,
   "id": "2eb7cc76-e6ca-4ce3-ba7b-61c5297e3148",
   "metadata": {},
   "outputs": [
    {
     "data": {
      "text/plain": [
       "{4, 5}"
      ]
     },
     "execution_count": 114,
     "metadata": {},
     "output_type": "execute_result"
    }
   ],
   "source": [
    "{1,3,5}^{1,3,4}"
   ]
  },
  {
   "cell_type": "code",
   "execution_count": 112,
   "id": "a4332848-dba2-406e-8899-3806ee939d7f",
   "metadata": {},
   "outputs": [
    {
     "data": {
      "text/plain": [
       "{7}"
      ]
     },
     "execution_count": 112,
     "metadata": {},
     "output_type": "execute_result"
    }
   ],
   "source": [
    "{1,3,5}.symmetric_difference([1,3,5,7])"
   ]
  },
  {
   "cell_type": "code",
   "execution_count": 120,
   "id": "dbdd7bbb-99ef-43ff-855b-5b2b5f9c777b",
   "metadata": {},
   "outputs": [
    {
     "name": "stdout",
     "output_type": "stream",
     "text": [
      "{30}\n",
      "{5, 15}\n",
      "{5, 30, 15}\n",
      "{20, 5, 10, 30, 15}\n",
      "{10, 20}\n"
     ]
    }
   ],
   "source": [
    "a = {10,20,30}\n",
    "b = {5,10,15,20}\n",
    "\n",
    "print(a - b) #set of a excluding elements in b\n",
    "print(b - a)\n",
    "print(a ^ b)\n",
    "print(a | b)\n",
    "print(a & b)"
   ]
  },
  {
   "cell_type": "code",
   "execution_count": 124,
   "id": "a8fb1278-b9b8-4aa0-a3f0-6ab7be581af2",
   "metadata": {},
   "outputs": [
    {
     "data": {
      "text/plain": [
       "{1, 2, 3, 4, 5}"
      ]
     },
     "execution_count": 124,
     "metadata": {},
     "output_type": "execute_result"
    }
   ],
   "source": [
    "numbers = {1,3,5}\n",
    "numbers |= {2,3,4}\n",
    "numbers"
   ]
  },
  {
   "cell_type": "code",
   "execution_count": 125,
   "id": "f92b422a-985a-4196-96b7-5da91384b1da",
   "metadata": {},
   "outputs": [
    {
     "data": {
      "text/plain": [
       "{3}"
      ]
     },
     "execution_count": 125,
     "metadata": {},
     "output_type": "execute_result"
    }
   ],
   "source": [
    "numbers = {1,3,5}\n",
    "numbers &= {2,3,4}\n",
    "numbers"
   ]
  },
  {
   "cell_type": "code",
   "execution_count": 128,
   "id": "8c79ac26-1cd3-43e2-b3bd-fdd0b440f35a",
   "metadata": {},
   "outputs": [
    {
     "data": {
      "text/plain": [
       "{2, 4, 6, 8, 10}"
      ]
     },
     "execution_count": 128,
     "metadata": {},
     "output_type": "execute_result"
    }
   ],
   "source": [
    "numbers = [1,2,2,3,4,5,6,6,7,8,9,10,10]\n",
    "evens = {item for item in numbers if item % 2 == 0}\n",
    "evens"
   ]
  },
  {
   "cell_type": "code",
   "execution_count": null,
   "id": "4505f986-4f28-4fa8-ac83-4473a59db7d4",
   "metadata": {},
   "outputs": [],
   "source": []
  }
 ],
 "metadata": {
  "kernelspec": {
   "display_name": "Python 3 (ipykernel)",
   "language": "python",
   "name": "python3"
  },
  "language_info": {
   "codemirror_mode": {
    "name": "ipython",
    "version": 3
   },
   "file_extension": ".py",
   "mimetype": "text/x-python",
   "name": "python",
   "nbconvert_exporter": "python",
   "pygments_lexer": "ipython3",
   "version": "3.9.7"
  }
 },
 "nbformat": 4,
 "nbformat_minor": 5
}
