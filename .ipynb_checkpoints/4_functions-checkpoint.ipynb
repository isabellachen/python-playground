{
 "cells": [
  {
   "cell_type": "code",
   "execution_count": 1,
   "id": "0ac67a66-1bdd-4197-96f7-c8b009f01ed8",
   "metadata": {},
   "outputs": [
    {
     "name": "stdout",
     "output_type": "stream",
     "text": [
      "49\n"
     ]
    }
   ],
   "source": [
    "def square(number):\n",
    "    return (number**2)\n",
    "\n",
    "print(square(7))"
   ]
  },
  {
   "cell_type": "code",
   "execution_count": 4,
   "id": "171541e4-06f2-45cf-85a5-049408f64fee",
   "metadata": {},
   "outputs": [
    {
     "name": "stdout",
     "output_type": "stream",
     "text": [
      "The arguments are (1, 2, 3)\n"
     ]
    }
   ],
   "source": [
    "def print_args(*args):\n",
    "    print(f\"The arguments are {args}\")\n",
    "    \n",
    "print_args(1,2,3)"
   ]
  },
  {
   "cell_type": "code",
   "execution_count": 7,
   "id": "113b920f-964e-4e0b-817f-c5b9f0d657ca",
   "metadata": {},
   "outputs": [
    {
     "name": "stdout",
     "output_type": "stream",
     "text": [
      "13\n",
      "19\n"
     ]
    }
   ],
   "source": [
    "def return_tuple(a, b):\n",
    "    return(a,b)\n",
    "\n",
    "a,b = return_tuple(13,19)\n",
    "\n",
    "print(a)\n",
    "print(b)"
   ]
  },
  {
   "cell_type": "code",
   "execution_count": 9,
   "id": "23e56bb7-6419-407a-a704-a86f8a02faa2",
   "metadata": {},
   "outputs": [
    {
     "name": "stdout",
     "output_type": "stream",
     "text": [
      "3\n"
     ]
    }
   ],
   "source": [
    "def return_list(a,b):\n",
    "    return [a,b]\n",
    "\n",
    "a,b = return_list(3,7)\n",
    "\n",
    "print(a)\n",
    "print(b)"
   ]
  },
  {
   "cell_type": "code",
   "execution_count": 11,
   "id": "7ebe5473-2d07-4938-9b12-ed360f5fa2a1",
   "metadata": {},
   "outputs": [
    {
     "data": {
      "text/plain": [
       "10"
      ]
     },
     "execution_count": 11,
     "metadata": {},
     "output_type": "execute_result"
    }
   ],
   "source": [
    "ret = (lambda x: x*5)\n",
    "ret(2)"
   ]
  },
  {
   "cell_type": "code",
   "execution_count": 12,
   "id": "98598f75-1a82-496e-b821-41d914a96715",
   "metadata": {},
   "outputs": [
    {
     "data": {
      "text/plain": [
       "35"
      ]
     },
     "execution_count": 12,
     "metadata": {},
     "output_type": "execute_result"
    }
   ],
   "source": [
    "(lambda x: x*5)(7)"
   ]
  },
  {
   "cell_type": "code",
   "execution_count": 14,
   "id": "a3a155b0-ba3e-41ee-8717-c689822c24c8",
   "metadata": {},
   "outputs": [
    {
     "data": {
      "text/plain": [
       "\u001b[0;31mSignature:\u001b[0m \u001b[0msum\u001b[0m\u001b[0;34m(\u001b[0m\u001b[0miterable\u001b[0m\u001b[0;34m,\u001b[0m \u001b[0;34m/\u001b[0m\u001b[0;34m,\u001b[0m \u001b[0mstart\u001b[0m\u001b[0;34m=\u001b[0m\u001b[0;36m0\u001b[0m\u001b[0;34m)\u001b[0m\u001b[0;34m\u001b[0m\u001b[0;34m\u001b[0m\u001b[0m\n",
       "\u001b[0;31mDocstring:\u001b[0m\n",
       "Return the sum of a 'start' value (default: 0) plus an iterable of numbers\n",
       "\n",
       "When the iterable is empty, return the start value.\n",
       "This function is intended specifically for use with numeric values and may\n",
       "reject non-numeric types.\n",
       "\u001b[0;31mType:\u001b[0m      builtin_function_or_method\n"
      ]
     },
     "metadata": {},
     "output_type": "display_data"
    }
   ],
   "source": [
    "sum?"
   ]
  },
  {
   "cell_type": "code",
   "execution_count": 15,
   "id": "edd376dc-bdbe-41c3-9645-9e67e7d0fb38",
   "metadata": {},
   "outputs": [
    {
     "data": {
      "text/plain": [
       "6"
      ]
     },
     "execution_count": 15,
     "metadata": {},
     "output_type": "execute_result"
    }
   ],
   "source": [
    "sum([1,2,3])"
   ]
  },
  {
   "cell_type": "code",
   "execution_count": 18,
   "id": "e95ceaac-c0a8-4594-889c-4a8754a15ad1",
   "metadata": {},
   "outputs": [
    {
     "name": "stdout",
     "output_type": "stream",
     "text": [
      "0 1 2 3 4 5 6 7 8 9 "
     ]
    }
   ],
   "source": [
    "for x in range(10):\n",
    "    print(x, end = \" \")"
   ]
  },
  {
   "cell_type": "code",
   "execution_count": 21,
   "id": "966b8c87-f984-40b9-80d3-9bbc6b3cb23e",
   "metadata": {},
   "outputs": [
    {
     "data": {
      "text/plain": [
       "5.0"
      ]
     },
     "execution_count": 21,
     "metadata": {},
     "output_type": "execute_result"
    }
   ],
   "source": [
    "from math import sqrt\n",
    "\n",
    "def sq_root(num):\n",
    "    print(num)\n",
    "    return num**0.5\n",
    "\n",
    "sq_root(25)"
   ]
  },
  {
   "cell_type": "code",
   "execution_count": 26,
   "id": "982dbc85-6280-4a57-9cfd-7f2ae2061e52",
   "metadata": {},
   "outputs": [
    {
     "name": "stdout",
     "output_type": "stream",
     "text": [
      "<map object at 0x7fbf2734d940>\n",
      "False\n",
      "True\n",
      "1 3 5\n"
     ]
    }
   ],
   "source": [
    "is_odd = lambda x: x %2 == 1\n",
    "values = [1,2,3,4,5]\n",
    "print(map(is_odd, values))\n",
    "print(all(map(is_odd, values)))\n",
    "print(any(map(is_odd, values)))\n",
    "print(*filter(is_odd, values))"
   ]
  },
  {
   "cell_type": "code",
   "execution_count": 36,
   "id": "2f508194-06ab-40cf-88fd-b9c72e4f307c",
   "metadata": {},
   "outputs": [
    {
     "name": "stdout",
     "output_type": "stream",
     "text": [
      "apple\n",
      "apple\n"
     ]
    }
   ],
   "source": [
    "def fruits(n):\n",
    "   print(n)\n",
    "\n",
    "next(map(fruits, ('apple', 'banana', 'cherry')))"
   ]
  },
  {
   "cell_type": "code",
   "execution_count": 39,
   "id": "7cf42ccd-a906-4165-b55f-9b11ec4aff74",
   "metadata": {},
   "outputs": [
    {
     "name": "stdout",
     "output_type": "stream",
     "text": [
      "['apple', 'banana', 'cherry']\n"
     ]
    }
   ],
   "source": [
    "def fruits(n):\n",
    "   return n\n",
    "\n",
    "print([*map(fruits, ('apple', 'banana', 'cherry'))])"
   ]
  },
  {
   "cell_type": "code",
   "execution_count": 44,
   "id": "13587a42-fdf3-4000-a865-f21decc08646",
   "metadata": {},
   "outputs": [
    {
     "name": "stdout",
     "output_type": "stream",
     "text": [
      "96 62 1 84 53 70 38 23 56 18 "
     ]
    }
   ],
   "source": [
    "import random\n",
    "\n",
    "for roll in range(10):\n",
    "    print(random.randrange(1,100), end=\" \")"
   ]
  },
  {
   "cell_type": "code",
   "execution_count": 49,
   "id": "40461c3c-1a6f-4021-81c2-07ad0093b771",
   "metadata": {},
   "outputs": [
    {
     "name": "stdout",
     "output_type": "stream",
     "text": [
      "['applepear', 'orangebanana']\n"
     ]
    }
   ],
   "source": [
    "def combine_fruit(a,b):\n",
    "    return a + b\n",
    "\n",
    "x = map(combine_fruit, ('apple', 'orange'), ('pear', 'banana'))\n",
    "print(list(x))"
   ]
  },
  {
   "cell_type": "code",
   "execution_count": 54,
   "id": "e70f6d9c-6ddf-4ccd-87f0-650786bae5aa",
   "metadata": {},
   "outputs": [
    {
     "data": {
      "text/plain": [
       "26"
      ]
     },
     "execution_count": 54,
     "metadata": {},
     "output_type": "execute_result"
    }
   ],
   "source": [
    "random.randrange(0, 100, 1)"
   ]
  },
  {
   "cell_type": "code",
   "execution_count": 63,
   "id": "6fab76b4-5e83-404e-9607-c1ff0740a10b",
   "metadata": {},
   "outputs": [
    {
     "name": "stdout",
     "output_type": "stream",
     "text": [
      "T T H H T H T T T H T H T T H T T H T T "
     ]
    }
   ],
   "source": [
    "def toss_coin():\n",
    "    for i in range(20):\n",
    "        coin = random.randrange(2)\n",
    "        if coin % 2 == 0 :\n",
    "            print('H', end=\" \")\n",
    "        else:\n",
    "            print('T', end=\" \")\n",
    "        \n",
    "toss_coin()"
   ]
  },
  {
   "cell_type": "code",
   "execution_count": 77,
   "id": "90ff574e-aebd-4b17-845e-519bfc4ae289",
   "metadata": {},
   "outputs": [
    {
     "name": "stdout",
     "output_type": "stream",
     "text": [
      "H H T H T T T T H H T T H T T H T H T T "
     ]
    }
   ],
   "source": [
    "def toss_coin():\n",
    "    for i in range(20):\n",
    "        coin = random.randrange(2)\n",
    "        print('H' if coin % 2 == 0 else 'T', end=\" \")\n",
    "        \n",
    "toss_coin()"
   ]
  },
  {
   "cell_type": "code",
   "execution_count": 64,
   "id": "29c37d6c-61ae-4ac3-9e99-0b1337bc706b",
   "metadata": {},
   "outputs": [
    {
     "data": {
      "text/plain": [
       "'T'"
      ]
     },
     "execution_count": 64,
     "metadata": {},
     "output_type": "execute_result"
    }
   ],
   "source": [
    "random.choice([\"H\", \"T\"])"
   ]
  },
  {
   "cell_type": "code",
   "execution_count": 68,
   "id": "1855f47b-76b2-42cb-9e4d-80ad2d735d56",
   "metadata": {},
   "outputs": [
    {
     "name": "stdout",
     "output_type": "stream",
     "text": [
      "H T H H T H H T H T H H H H T H T H H T "
     ]
    }
   ],
   "source": [
    "outcomes = [\"H\", \"T\"]\n",
    "\n",
    "for i in range(20):\n",
    "    print(random.choice(outcomes), end=\" \")"
   ]
  },
  {
   "cell_type": "code",
   "execution_count": 71,
   "id": "edbf04c0-fa32-42f2-a12e-6f93f9bc11ef",
   "metadata": {},
   "outputs": [
    {
     "name": "stdout",
     "output_type": "stream",
     "text": [
      "3\n"
     ]
    }
   ],
   "source": [
    "tup = (1,2)\n",
    "\n",
    "print(sum(tup))"
   ]
  },
  {
   "cell_type": "code",
   "execution_count": 81,
   "id": "9c0174cc-75b4-48f6-a043-bdfa4eb0fdf5",
   "metadata": {},
   "outputs": [
    {
     "name": "stdout",
     "output_type": "stream",
     "text": [
      "Player rolled 6 + 6 = 12\n",
      "12\n"
     ]
    }
   ],
   "source": [
    "def roll_dice():\n",
    "    die1 = random.randrange(1,7)\n",
    "    die2 = random.randrange(1,7)\n",
    "    return (die1, die2)\n",
    "\n",
    "def display_dice(dice):\n",
    "    die1, die2 = dice\n",
    "    print(f\"Player rolled {die1} + {die2} = {sum(dice)}\")\n",
    "    \n",
    "die_values = roll_dice()\n",
    "display_dice(die_values)\n",
    "sum_of_dice = sum(die_values)\n"
   ]
  },
  {
   "cell_type": "code",
   "execution_count": 85,
   "id": "18aa7ef4-bdb8-4aad-9d82-06cdaa133615",
   "metadata": {},
   "outputs": [
    {
     "data": {
      "text/plain": [
       "False"
      ]
     },
     "execution_count": 85,
     "metadata": {},
     "output_type": "execute_result"
    }
   ],
   "source": [
    "1 in (1,2)\n",
    "10 in (1,2,7)"
   ]
  },
  {
   "cell_type": "code",
   "execution_count": 92,
   "id": "966e84ce-6900-497e-8cf4-e292327b418c",
   "metadata": {},
   "outputs": [
    {
     "name": "stdout",
     "output_type": "stream",
     "text": [
      "('Sue', [89, 91])\n",
      "Sue\n",
      "[89, 91]\n"
     ]
    }
   ],
   "source": [
    "student = ('Sue', [89, 91])\n",
    "print(student)\n",
    "name, grades = student\n",
    "print(name)\n",
    "print(grades)"
   ]
  },
  {
   "cell_type": "code",
   "execution_count": 96,
   "id": "664fe7d2-0811-40a4-9174-1848e6fa8ba2",
   "metadata": {},
   "outputs": [
    {
     "data": {
      "text/plain": [
       "\u001b[0;31mSignature:\u001b[0m \u001b[0mmath\u001b[0m\u001b[0;34m.\u001b[0m\u001b[0mfabs\u001b[0m\u001b[0;34m(\u001b[0m\u001b[0mx\u001b[0m\u001b[0;34m,\u001b[0m \u001b[0;34m/\u001b[0m\u001b[0;34m)\u001b[0m\u001b[0;34m\u001b[0m\u001b[0;34m\u001b[0m\u001b[0m\n",
       "\u001b[0;31mDocstring:\u001b[0m Return the absolute value of the float x.\n",
       "\u001b[0;31mType:\u001b[0m      builtin_function_or_method\n"
      ]
     },
     "metadata": {},
     "output_type": "display_data"
    }
   ],
   "source": [
    "import math\n",
    "math.pow?\n",
    "math.fabs?"
   ]
  },
  {
   "cell_type": "code",
   "execution_count": 101,
   "id": "a743c427-2230-43f8-9202-3a706c812d85",
   "metadata": {},
   "outputs": [
    {
     "name": "stdout",
     "output_type": "stream",
     "text": [
      "21\n",
      "20\n"
     ]
    }
   ],
   "source": [
    "def rect_area(length=2, width=3):\n",
    "    \"\"\"Return the area of rectangle\"\"\"\n",
    "    return length * width\n",
    "print(rect_area(3,7))\n",
    "print(rect_area(2,10))"
   ]
  },
  {
   "cell_type": "code",
   "execution_count": 112,
   "id": "431bd06a-a998-4ce6-a6e8-ff7909504fe0",
   "metadata": {},
   "outputs": [
    {
     "name": "stdout",
     "output_type": "stream",
     "text": [
      "(1, 2, 3)\n",
      "The sum is 6 and the length is 3\n",
      "6\n",
      "3\n"
     ]
    }
   ],
   "source": [
    "def average(*args):\n",
    "    print(args)\n",
    "    print(f\"The sum is {sum(args)} and the length is {len(args)}\")\n",
    "    return (sum(args), len(args))\n",
    "    \n",
    "the_sum, the_length = average(1,2,3)\n",
    "print(the_sum)\n",
    "print(the_length)"
   ]
  },
  {
   "cell_type": "code",
   "execution_count": 122,
   "id": "6c101921-1599-4698-8846-fceef770d261",
   "metadata": {},
   "outputs": [
    {
     "name": "stdout",
     "output_type": "stream",
     "text": [
      "6\n"
     ]
    }
   ],
   "source": [
    "def calc_product(*args):\n",
    "    result = 1\n",
    "    for i in args:\n",
    "        result *= i\n",
    "    return result\n",
    "\n",
    "print(calc_product(1,2,3))"
   ]
  },
  {
   "cell_type": "code",
   "execution_count": 124,
   "id": "1ca668de-a6bc-4c4e-abed-6a42e6bb95ed",
   "metadata": {},
   "outputs": [
    {
     "ename": "TypeError",
     "evalue": "reduce() of empty sequence with no initial value",
     "output_type": "error",
     "traceback": [
      "\u001b[0;31m---------------------------------------------------------------------------\u001b[0m",
      "\u001b[0;31mTypeError\u001b[0m                                 Traceback (most recent call last)",
      "\u001b[0;32m/var/folders/pk/4gffy8_15hd_0fcz80vjkb540000gn/T/ipykernel_1381/3334555919.py\u001b[0m in \u001b[0;36m<module>\u001b[0;34m\u001b[0m\n\u001b[1;32m      2\u001b[0m     \u001b[0;32mreturn\u001b[0m \u001b[0mreduce\u001b[0m\u001b[0;34m(\u001b[0m\u001b[0moperator\u001b[0m\u001b[0;34m.\u001b[0m\u001b[0mmul\u001b[0m\u001b[0;34m,\u001b[0m \u001b[0mnums\u001b[0m\u001b[0;34m)\u001b[0m\u001b[0;34m\u001b[0m\u001b[0;34m\u001b[0m\u001b[0m\n\u001b[1;32m      3\u001b[0m \u001b[0;34m\u001b[0m\u001b[0m\n\u001b[0;32m----> 4\u001b[0;31m \u001b[0mcalc_pdt\u001b[0m\u001b[0;34m(\u001b[0m\u001b[0;34m)\u001b[0m\u001b[0;34m\u001b[0m\u001b[0;34m\u001b[0m\u001b[0m\n\u001b[0m",
      "\u001b[0;32m/var/folders/pk/4gffy8_15hd_0fcz80vjkb540000gn/T/ipykernel_1381/1260744758.py\u001b[0m in \u001b[0;36mcalc_pdt\u001b[0;34m(*nums)\u001b[0m\n\u001b[1;32m      3\u001b[0m \u001b[0;34m\u001b[0m\u001b[0m\n\u001b[1;32m      4\u001b[0m \u001b[0;32mdef\u001b[0m \u001b[0mcalc_pdt\u001b[0m\u001b[0;34m(\u001b[0m\u001b[0;34m*\u001b[0m\u001b[0mnums\u001b[0m\u001b[0;34m)\u001b[0m\u001b[0;34m:\u001b[0m\u001b[0;34m\u001b[0m\u001b[0;34m\u001b[0m\u001b[0m\n\u001b[0;32m----> 5\u001b[0;31m     \u001b[0;32mreturn\u001b[0m \u001b[0mreduce\u001b[0m\u001b[0;34m(\u001b[0m\u001b[0moperator\u001b[0m\u001b[0;34m.\u001b[0m\u001b[0mmul\u001b[0m\u001b[0;34m,\u001b[0m \u001b[0mnums\u001b[0m\u001b[0;34m)\u001b[0m\u001b[0;34m\u001b[0m\u001b[0;34m\u001b[0m\u001b[0m\n\u001b[0m\u001b[1;32m      6\u001b[0m \u001b[0;34m\u001b[0m\u001b[0m\n\u001b[1;32m      7\u001b[0m \u001b[0mcalc_pdt\u001b[0m\u001b[0;34m(\u001b[0m\u001b[0;36m1\u001b[0m\u001b[0;34m,\u001b[0m\u001b[0;36m2\u001b[0m\u001b[0;34m,\u001b[0m\u001b[0;36m3\u001b[0m\u001b[0;34m)\u001b[0m\u001b[0;34m\u001b[0m\u001b[0;34m\u001b[0m\u001b[0m\n",
      "\u001b[0;31mTypeError\u001b[0m: reduce() of empty sequence with no initial value"
     ]
    }
   ],
   "source": [
    "def calc_pdt2(*nums):\n",
    "    return reduce(operator.mul, nums)\n",
    "\n",
    "calc_pdt()"
   ]
  },
  {
   "cell_type": "code",
   "execution_count": 125,
   "id": "4ce725e3-4ac9-4225-b221-71066688cd66",
   "metadata": {},
   "outputs": [
    {
     "ename": "TypeError",
     "evalue": "reduce() of empty sequence with no initial value",
     "output_type": "error",
     "traceback": [
      "\u001b[0;31m---------------------------------------------------------------------------\u001b[0m",
      "\u001b[0;31mTypeError\u001b[0m                                 Traceback (most recent call last)",
      "\u001b[0;32m/var/folders/pk/4gffy8_15hd_0fcz80vjkb540000gn/T/ipykernel_1381/4126421887.py\u001b[0m in \u001b[0;36m<module>\u001b[0;34m\u001b[0m\n\u001b[1;32m      2\u001b[0m     \u001b[0;32mreturn\u001b[0m \u001b[0mreduce\u001b[0m\u001b[0;34m(\u001b[0m\u001b[0moperator\u001b[0m\u001b[0;34m.\u001b[0m\u001b[0mmul\u001b[0m\u001b[0;34m,\u001b[0m \u001b[0mnums\u001b[0m\u001b[0;34m,\u001b[0m \u001b[0mnum\u001b[0m\u001b[0;34m)\u001b[0m\u001b[0;34m\u001b[0m\u001b[0;34m\u001b[0m\u001b[0m\n\u001b[1;32m      3\u001b[0m \u001b[0;34m\u001b[0m\u001b[0m\n\u001b[0;32m----> 4\u001b[0;31m \u001b[0mcalc_pdt\u001b[0m\u001b[0;34m(\u001b[0m\u001b[0;34m)\u001b[0m\u001b[0;34m\u001b[0m\u001b[0;34m\u001b[0m\u001b[0m\n\u001b[0m",
      "\u001b[0;32m/var/folders/pk/4gffy8_15hd_0fcz80vjkb540000gn/T/ipykernel_1381/1260744758.py\u001b[0m in \u001b[0;36mcalc_pdt\u001b[0;34m(*nums)\u001b[0m\n\u001b[1;32m      3\u001b[0m \u001b[0;34m\u001b[0m\u001b[0m\n\u001b[1;32m      4\u001b[0m \u001b[0;32mdef\u001b[0m \u001b[0mcalc_pdt\u001b[0m\u001b[0;34m(\u001b[0m\u001b[0;34m*\u001b[0m\u001b[0mnums\u001b[0m\u001b[0;34m)\u001b[0m\u001b[0;34m:\u001b[0m\u001b[0;34m\u001b[0m\u001b[0;34m\u001b[0m\u001b[0m\n\u001b[0;32m----> 5\u001b[0;31m     \u001b[0;32mreturn\u001b[0m \u001b[0mreduce\u001b[0m\u001b[0;34m(\u001b[0m\u001b[0moperator\u001b[0m\u001b[0;34m.\u001b[0m\u001b[0mmul\u001b[0m\u001b[0;34m,\u001b[0m \u001b[0mnums\u001b[0m\u001b[0;34m)\u001b[0m\u001b[0;34m\u001b[0m\u001b[0;34m\u001b[0m\u001b[0m\n\u001b[0m\u001b[1;32m      6\u001b[0m \u001b[0;34m\u001b[0m\u001b[0m\n\u001b[1;32m      7\u001b[0m \u001b[0mcalc_pdt\u001b[0m\u001b[0;34m(\u001b[0m\u001b[0;36m1\u001b[0m\u001b[0;34m,\u001b[0m\u001b[0;36m2\u001b[0m\u001b[0;34m,\u001b[0m\u001b[0;36m3\u001b[0m\u001b[0;34m)\u001b[0m\u001b[0;34m\u001b[0m\u001b[0;34m\u001b[0m\u001b[0m\n",
      "\u001b[0;31mTypeError\u001b[0m: reduce() of empty sequence with no initial value"
     ]
    }
   ],
   "source": [
    "# Better error message\n",
    "def calc_pdt2(num, *nums):\n",
    "    return reduce(operator.mul, nums, num)\n",
    "\n",
    "calc_pdt()"
   ]
  },
  {
   "cell_type": "code",
   "execution_count": 120,
   "id": "89cb7f3b-c762-4270-a7bd-0a84acff3b2a",
   "metadata": {},
   "outputs": [
    {
     "data": {
      "text/plain": [
       "6"
      ]
     },
     "execution_count": 120,
     "metadata": {},
     "output_type": "execute_result"
    }
   ],
   "source": [
    "from functools import reduce\n",
    "import operator\n",
    "\n",
    "def calc_pdt(num, *nums):\n",
    "    return reduce(operator.mul, nums, num)\n",
    "\n",
    "calc_pdt(1,2,3)\n",
    "calc_pdt(*range(1,6,2))"
   ]
  },
  {
   "cell_type": "code",
   "execution_count": null,
   "id": "74cd54c0-45cd-4e74-861e-f2800b1b49bc",
   "metadata": {},
   "outputs": [],
   "source": []
  }
 ],
 "metadata": {
  "kernelspec": {
   "display_name": "Python 3 (ipykernel)",
   "language": "python",
   "name": "python3"
  },
  "language_info": {
   "codemirror_mode": {
    "name": "ipython",
    "version": 3
   },
   "file_extension": ".py",
   "mimetype": "text/x-python",
   "name": "python",
   "nbconvert_exporter": "python",
   "pygments_lexer": "ipython3",
   "version": "3.9.7"
  }
 },
 "nbformat": 4,
 "nbformat_minor": 5
}
